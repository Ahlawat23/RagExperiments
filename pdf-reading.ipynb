{
 "cells": [
  {
   "cell_type": "code",
   "execution_count": 10,
   "id": "0d4ae84c-260c-4b45-8248-055617a90c58",
   "metadata": {},
   "outputs": [
    {
     "name": "stdout",
     "output_type": "stream",
     "text": [
      "Requirement already satisfied: PyPDF2 in c:\\users\\panka\\appdata\\local\\programs\\python\\python313\\lib\\site-packages (3.0.1)\n"
     ]
    }
   ],
   "source": [
    "!pip install -q sentence-transformers\n",
    "!pip install -q wikipedia-api\n",
    "!pip install -q numpy\n",
    "!pip install -q scipy\n",
    "!pip install PyPDF2"
   ]
  },
  {
   "cell_type": "code",
   "execution_count": 14,
   "id": "231242a9-886d-456e-be06-53fe6b2746b9",
   "metadata": {},
   "outputs": [],
   "source": [
    "from sentence_transformers import SentenceTransformer\n",
    "model = SentenceTransformer(\"Alibaba-NLP/gte-base-en-v1.5\", trust_remote_code=True)"
   ]
  },
  {
   "cell_type": "code",
   "execution_count": 15,
   "id": "0801cbc9-7c6d-469d-bc03-4fce599265cb",
   "metadata": {},
   "outputs": [
    {
     "name": "stdout",
     "output_type": "stream",
     "text": [
      "Extracted 138 pages\n"
     ]
    }
   ],
   "source": [
    "import PyPDF2\n",
    "\n",
    "\n",
    "# Path to your PDF file\n",
    "file_path = \"E:/Download drive/sol/sem3/computerArchitecture.pdf\"\n",
    "\n",
    "\n",
    "pageWiseText = [] \n",
    "# Open the PDF file\n",
    "with open(file_path, \"rb\") as file:\n",
    "    reader = PyPDF2.PdfReader(file)\n",
    "    for page in reader.pages:\n",
    "        pageText = page.extract_text()\n",
    "        if pageText:\n",
    "            pageWiseText.append(pageText)\n",
    "\n",
    "print(f\"Extracted {len(pageWiseText)} pages\")"
   ]
  },
  {
   "cell_type": "code",
   "execution_count": 16,
   "id": "31975c2c-5dc5-401f-8ee9-c46ba2854503",
   "metadata": {},
   "outputs": [
    {
     "name": "stdout",
     "output_type": "stream",
     "text": [
      "output to E:/Download drive/sol/sem3/computerArchitecture.txt\n"
     ]
    }
   ],
   "source": [
    "import textwrap\n",
    "import os\n",
    "\n",
    "output_path = os.path.splitext(file_path)[0] + \".txt\"\n",
    "\n",
    "allText = \"\"\n",
    "for i, p in enumerate(pageWiseText):\n",
    "    wrapped_text = textwrap.fill(p, width=100)\n",
    "    allText += \"\\n ----------------------------------------------------------------- \\n\"\n",
    "    allText += wrapped_text\n",
    "    allText += \"\\n ----------------------------------------------------------------- \\n\"\n",
    "\n",
    "with open(output_path, \"w\", encoding=\"utf-8\") as f:\n",
    "    f.write(allText)\n",
    "\n",
    "print(f\"output to {output_path}\")"
   ]
  },
  {
   "cell_type": "code",
   "execution_count": 17,
   "id": "acf766f0-1731-486f-9bae-a2208332de1a",
   "metadata": {},
   "outputs": [],
   "source": [
    "docs_embed = model.encode(pageWiseText, normalize_embeddings=True)"
   ]
  },
  {
   "cell_type": "code",
   "execution_count": 18,
   "id": "dea81de3-9e25-4cd5-93ed-0cab99c59fa4",
   "metadata": {},
   "outputs": [
    {
     "data": {
      "text/plain": [
       "(138, 768)"
      ]
     },
     "execution_count": 18,
     "metadata": {},
     "output_type": "execute_result"
    }
   ],
   "source": [
    "docs_embed.shape"
   ]
  },
  {
   "cell_type": "code",
   "execution_count": 19,
   "id": "8cb27766-6875-402d-91b7-857c674fb5dc",
   "metadata": {
    "scrolled": true
   },
   "outputs": [
    {
     "data": {
      "text/plain": [
       "array([ 5.55611774e-02,  1.60164287e-04,  1.38087999e-02, -1.66272800e-02,\n",
       "        1.57172587e-02, -2.76633408e-02, -3.81621160e-02,  2.12215725e-02,\n",
       "       -2.85266293e-03, -6.29215641e-03,  1.10246735e-02,  3.47269252e-02,\n",
       "        8.84703081e-03,  2.94577330e-02, -5.11457361e-02,  1.41078793e-03,\n",
       "       -5.07540032e-02,  1.39884856e-02,  2.56226752e-02, -1.65721122e-02,\n",
       "       -5.78188803e-03, -3.44163887e-02,  2.11533718e-02, -1.26759941e-02,\n",
       "        3.44745852e-02,  9.14896876e-02, -2.89997738e-02,  2.38277968e-02,\n",
       "       -1.07647613e-01, -1.59076750e-02, -1.44522144e-02, -6.42658537e-03,\n",
       "       -1.81247294e-02,  2.63763238e-02,  1.89230293e-02, -1.59145007e-03,\n",
       "        7.64263654e-03, -8.70338921e-03, -1.00448780e-01,  4.89868550e-03,\n",
       "       -4.36873622e-02, -2.80778017e-03, -1.36326728e-02, -2.86067240e-02,\n",
       "       -4.11163643e-02,  4.07560505e-02, -5.99516230e-03, -3.30246873e-02,\n",
       "       -3.39059308e-02,  1.27605833e-02, -2.78545432e-02,  8.86073932e-02,\n",
       "        4.39908542e-02,  1.78629104e-02, -1.56212086e-02, -4.71702926e-02,\n",
       "       -5.86262578e-03,  1.18051721e-02, -2.43311450e-02, -5.08610867e-02,\n",
       "       -3.09966262e-02,  1.23154810e-02, -7.36551266e-03, -1.28497137e-02,\n",
       "        1.02910567e-02, -3.97312501e-03,  3.93341407e-02,  3.89583148e-02,\n",
       "       -3.96099500e-02, -2.76036169e-02,  6.09357376e-03, -4.11683768e-02,\n",
       "       -5.50884157e-02, -6.94870055e-02,  2.97372285e-02, -2.11610459e-03,\n",
       "       -4.14422229e-02, -1.39906872e-02, -2.85912063e-02, -1.32316016e-02,\n",
       "       -1.69353012e-03,  1.76960067e-03, -1.23450281e-02,  1.05725275e-02,\n",
       "        2.40314100e-02,  4.59708180e-03, -4.05854136e-02, -2.52793636e-03,\n",
       "        5.30714393e-02,  4.37354669e-03, -2.34062653e-02,  1.85969584e-02,\n",
       "       -8.23456049e-03, -4.64848503e-02, -1.47626642e-02,  1.83145683e-02,\n",
       "        6.17042407e-02,  7.63532892e-03,  2.15521641e-03, -3.82290184e-02,\n",
       "        3.21651087e-03,  4.37365641e-04, -7.89005589e-03,  4.60923556e-03,\n",
       "        2.38939910e-03,  1.59793976e-03,  4.31608781e-03,  5.06211519e-02,\n",
       "       -7.98538793e-03,  2.46404130e-02,  5.78769371e-02, -5.99232689e-02,\n",
       "        1.49544813e-02,  4.08355426e-03, -4.45047058e-02,  2.86048464e-02,\n",
       "       -8.88317823e-02,  2.87906788e-02, -3.16498019e-02,  1.73048750e-02,\n",
       "        8.84075183e-03, -5.48072718e-03, -7.29624704e-02,  9.15777311e-03,\n",
       "        2.98024938e-02,  3.30329426e-02,  2.70120185e-02,  1.48552805e-02,\n",
       "       -4.26827557e-02, -2.49389391e-02, -7.25948289e-02, -1.62485335e-03,\n",
       "       -5.98625503e-02, -5.74526265e-02, -4.44492437e-02,  2.84727961e-02,\n",
       "       -3.00593302e-02,  9.04532149e-03, -7.81357363e-02, -2.21971385e-02,\n",
       "       -3.62445717e-03, -7.31031923e-03, -3.60927195e-03, -2.12754235e-02,\n",
       "       -2.48922985e-02,  2.27855220e-02, -3.44641716e-03,  2.40989681e-03,\n",
       "        1.98624395e-02,  2.05137534e-03,  9.29706264e-03, -4.41032089e-02,\n",
       "       -3.91298048e-02,  5.49339727e-02,  3.87053564e-02, -2.62996648e-02,\n",
       "        1.47525221e-02, -4.18798812e-03,  1.57179981e-02, -2.44539604e-02,\n",
       "        5.06853759e-02,  4.99286540e-02, -3.79151292e-03, -2.01673945e-03,\n",
       "        2.51377318e-02, -3.79670113e-02, -3.62300985e-02, -1.21198595e-03,\n",
       "        2.84172851e-03, -5.53216934e-02, -2.29085833e-02, -2.60171518e-02,\n",
       "       -4.47741412e-02, -3.41274850e-02,  4.59690094e-02,  1.25121120e-02,\n",
       "       -9.84846987e-03,  2.21861489e-02, -1.17493840e-03,  4.07246873e-03,\n",
       "       -4.43395451e-02,  1.50310888e-03, -4.36409675e-02, -5.60516529e-02,\n",
       "       -9.39260703e-03, -4.63532209e-02,  2.70678811e-02,  4.49379459e-02,\n",
       "        1.94657743e-02, -7.03663751e-02, -3.01457010e-02,  1.76092261e-03,\n",
       "       -1.95360575e-02,  7.00713769e-02, -2.27331463e-02,  5.21941371e-02,\n",
       "       -6.60207123e-02,  1.16839213e-02,  2.29554693e-03,  1.09557831e-03,\n",
       "       -4.41268757e-02, -2.05767108e-03, -5.65565191e-02, -3.16810347e-02,\n",
       "       -4.65614796e-02,  4.80750501e-02,  1.93746313e-02, -1.23980884e-02,\n",
       "       -1.61410514e-02,  1.54686789e-03,  1.75846983e-02,  2.27595158e-02,\n",
       "        4.25104648e-02, -3.76915336e-02,  2.00614277e-02, -3.96654345e-02,\n",
       "        1.49355521e-02,  4.57181297e-02,  3.76010453e-03, -4.41205241e-02,\n",
       "        3.14563103e-02, -7.80740753e-03,  2.57193502e-02, -2.88992412e-02,\n",
       "       -7.99935237e-02, -5.43096364e-02, -1.41998790e-02, -2.98011489e-02,\n",
       "        3.49450274e-03, -3.84913534e-02,  8.49009771e-03,  7.32972799e-03,\n",
       "       -4.25595418e-02, -5.30098192e-02,  1.02604348e-02,  3.80556472e-02,\n",
       "       -1.27677256e-02,  3.33558433e-02, -3.48394699e-02, -1.46349203e-02,\n",
       "       -4.42696661e-02,  4.60505709e-02, -4.16487968e-03, -1.11418199e-02,\n",
       "       -2.27683550e-03,  1.71371475e-02, -2.09717415e-02, -4.65732627e-02,\n",
       "       -4.69849743e-02, -2.51345038e-02,  1.44541846e-03,  1.06367450e-02,\n",
       "       -9.40677430e-03, -4.87820618e-02,  1.60943083e-02,  1.53603852e-02,\n",
       "        1.04059810e-02, -1.90063380e-02, -2.97334883e-02,  2.28335019e-02,\n",
       "       -4.80157547e-02, -4.42906171e-02, -8.77767522e-03, -1.60411897e-03,\n",
       "        2.62529664e-02,  1.95907243e-02, -1.33573534e-02, -2.21452713e-02,\n",
       "       -5.75537654e-03,  9.22006322e-04,  2.21287850e-02, -1.99433416e-02,\n",
       "        3.26071009e-02, -3.03005762e-02,  5.77828055e-03,  1.15446588e-02,\n",
       "       -1.95158236e-02,  6.34789187e-03, -3.34523320e-02,  1.03555126e-02,\n",
       "        9.40561146e-02,  3.15961093e-02,  9.48254857e-03,  4.62367460e-02,\n",
       "       -2.70053316e-02, -3.11671779e-03,  2.17668340e-02, -9.36383307e-02,\n",
       "        5.55541068e-02, -2.60400902e-02,  3.20665725e-03,  1.77134247e-03,\n",
       "       -1.60616934e-02,  2.00965889e-02, -2.45426185e-02,  2.12730635e-02,\n",
       "       -6.18764525e-03, -1.97949037e-02, -1.32503957e-02, -1.31500522e-02,\n",
       "       -4.57928609e-03, -6.90052956e-02, -9.59314685e-03,  2.79477164e-02,\n",
       "        3.64706703e-02, -5.04451878e-02,  4.93576564e-03, -4.15866263e-02,\n",
       "        1.62943378e-02, -2.17592977e-02, -5.04314005e-02,  4.72139493e-02,\n",
       "       -7.53219193e-03,  5.49927447e-03, -2.16671750e-02, -5.30117843e-03,\n",
       "        1.23198377e-02, -2.63416618e-02, -1.02993089e-03,  2.40617264e-02,\n",
       "       -2.16011889e-02, -7.63878524e-02,  2.80134901e-02, -1.20835090e-02,\n",
       "        2.81723421e-02, -3.82679738e-02, -2.95673758e-02, -2.05137227e-02,\n",
       "        1.77020263e-02,  2.46992745e-02,  3.00900103e-03,  4.81647551e-02,\n",
       "       -5.03842570e-02,  3.60274687e-02,  1.44402860e-02, -1.28051853e-02,\n",
       "        2.15484817e-02, -1.39663350e-02,  1.84260234e-02,  2.63491855e-03,\n",
       "        6.53077364e-02,  5.32806478e-02, -1.81766935e-02,  3.32036540e-02,\n",
       "       -2.80057844e-02, -2.72468105e-03,  2.95484462e-03, -2.74630766e-02,\n",
       "        4.63747047e-03,  1.86959188e-02, -2.77579725e-02,  1.08788591e-02,\n",
       "        1.18131042e-02,  2.94042211e-02,  1.66437980e-02,  8.25783238e-03,\n",
       "        1.38931647e-02,  2.40524416e-03,  1.17609426e-02,  1.37337493e-02,\n",
       "        2.09380928e-02, -2.39197002e-03,  6.19891146e-03, -4.35929336e-02,\n",
       "        3.73437032e-02, -8.09237733e-02,  2.53405813e-02, -3.93559746e-02,\n",
       "        1.31179895e-02, -2.32827850e-03, -1.33314496e-02, -1.83683578e-02,\n",
       "       -3.03006545e-03,  5.14677428e-02,  2.61859018e-02, -5.98528907e-02,\n",
       "       -2.86660399e-02, -4.42929342e-02,  7.65219098e-03,  8.59342515e-03,\n",
       "       -1.07035721e-02, -1.14199622e-02, -2.87947268e-03, -3.32612433e-02,\n",
       "        4.80306633e-02,  2.32024156e-02, -1.40498132e-02, -1.89086813e-02,\n",
       "        5.97083569e-02,  1.29485577e-02, -3.76908705e-02,  2.55538877e-02,\n",
       "        3.95334736e-02, -3.32365967e-02, -6.77845553e-02, -1.84124168e-02,\n",
       "       -4.42746766e-02,  6.71696523e-03, -5.75011969e-02, -2.09392048e-02,\n",
       "        3.85518186e-02, -2.72397473e-02, -5.60012944e-02, -1.22569865e-02,\n",
       "       -4.46608178e-02, -1.44339707e-02,  6.17965451e-03,  4.01258841e-02,\n",
       "       -3.47744748e-02, -3.17392200e-02,  4.06169556e-02,  3.63525227e-02,\n",
       "        4.27059159e-02,  7.29107717e-03,  5.84879406e-02, -1.70132518e-02,\n",
       "       -1.06889121e-02,  7.36610498e-03,  4.59650755e-02,  1.56709794e-02,\n",
       "        3.71113271e-02, -1.23709431e-02,  1.42630124e-02,  2.08521467e-02,\n",
       "        4.18060981e-02, -5.14908060e-02, -9.75036249e-03, -2.48808530e-03,\n",
       "       -1.83246993e-02,  4.74032834e-02,  4.88955565e-02,  6.98963925e-03,\n",
       "        1.94746125e-02, -4.37407456e-02,  6.91063993e-04,  1.79483555e-02,\n",
       "       -1.00859245e-02,  2.68627168e-03, -6.91424683e-03, -1.73531976e-02,\n",
       "        2.09050309e-02, -3.50433402e-02, -6.34155795e-03, -5.18125892e-02,\n",
       "       -7.45152906e-02, -6.12039864e-03,  2.04461720e-03,  6.76417351e-02,\n",
       "       -1.79279631e-03, -2.55679768e-02, -2.93299854e-02, -3.98046263e-02,\n",
       "        1.38386106e-02,  9.25744995e-02, -3.14795859e-02,  2.57730074e-02,\n",
       "       -5.56047307e-03,  6.74005076e-02, -8.97173025e-03,  1.94620937e-02,\n",
       "        4.07490432e-02, -4.17871773e-02, -3.17692906e-02, -5.95672205e-02,\n",
       "        1.05847642e-02,  3.24362777e-02,  1.54572148e-02,  6.08846173e-03,\n",
       "       -2.15705577e-02,  1.80725884e-02, -2.12339200e-02, -5.18106855e-03,\n",
       "        2.63474826e-02,  2.95277201e-02,  5.85972890e-02,  7.79202627e-03,\n",
       "        1.45413745e-02,  1.14841992e-02,  1.00125633e-02,  5.59684783e-02,\n",
       "        2.63247546e-02, -1.81534477e-02, -4.34451327e-02, -6.15610927e-02,\n",
       "       -3.44386837e-03, -1.36567615e-02,  2.30170880e-02, -3.69088575e-02,\n",
       "       -7.30252117e-02, -4.37840670e-02, -3.45929749e-02,  5.93534263e-04,\n",
       "        2.56194919e-02, -9.47214887e-02,  7.87012745e-03, -2.95395241e-03,\n",
       "        2.97479387e-02, -5.90662099e-03,  8.87713674e-03,  6.34777034e-03,\n",
       "        4.80682915e-03,  7.46919066e-02,  6.80857990e-03,  1.86500810e-02,\n",
       "       -3.21971513e-02,  9.72751807e-03,  8.40476435e-03, -6.11652024e-02,\n",
       "       -1.71103068e-02,  3.76325916e-03,  7.11299526e-03,  6.71987515e-03,\n",
       "        4.53063771e-02, -1.62283238e-02,  2.11566221e-02, -2.11525597e-02,\n",
       "       -6.88649667e-03, -1.18906386e-01,  5.64878024e-02, -1.55836521e-02,\n",
       "       -3.15265320e-02, -3.53826471e-02, -2.48362171e-03, -4.82654981e-02,\n",
       "       -7.12633971e-03,  9.75168019e-04,  4.52120490e-02,  1.68336183e-02,\n",
       "       -3.10120136e-02,  2.90264077e-02, -1.41282240e-02,  1.07332272e-02,\n",
       "        6.60447925e-02, -3.76983173e-02,  8.89852270e-02,  3.99301387e-02,\n",
       "       -2.49636434e-02,  4.45828997e-02,  3.21889035e-02, -1.72600709e-02,\n",
       "        2.13238833e-04,  1.92592777e-02,  1.09754121e-02, -3.14836670e-03,\n",
       "       -3.34886387e-02, -1.09827099e-02,  7.06991181e-02,  8.14401172e-03,\n",
       "        6.48616925e-02, -1.12025887e-01, -7.15537323e-03,  3.48327029e-03,\n",
       "        2.16122307e-02, -1.69763099e-02, -4.68740426e-03,  6.50200173e-02,\n",
       "       -3.93400848e-01,  2.57187299e-02,  4.79953587e-02,  3.35414661e-03,\n",
       "       -3.40439030e-03, -1.50026372e-02,  1.05885055e-03, -1.36079947e-02,\n",
       "        1.10544134e-02,  1.77641548e-02, -1.29269520e-02, -4.88446048e-03,\n",
       "       -1.23240044e-02, -1.78211387e-02,  5.75356930e-03,  2.90439315e-02,\n",
       "       -2.68094521e-03,  5.72017534e-03, -2.31378106e-03,  2.70562898e-03,\n",
       "       -4.91351746e-02, -1.25307394e-02,  3.24734487e-02, -2.78040934e-02,\n",
       "        2.33759303e-02, -6.07497916e-02,  2.79220915e-03,  6.32992312e-02,\n",
       "        1.18698841e-02, -9.11652576e-03,  3.81993093e-02, -1.43107120e-02,\n",
       "        6.70443177e-02,  5.63248880e-02, -1.80002283e-02,  5.22951335e-02,\n",
       "        1.29149109e-02,  3.23591731e-03, -1.61536839e-02,  1.73141360e-02,\n",
       "        6.96386844e-02,  9.99427028e-03,  4.63017710e-02, -1.56870410e-02,\n",
       "       -5.91536462e-02, -4.40380014e-02,  1.33268647e-02, -1.97081398e-02,\n",
       "        6.70293532e-03, -7.85646611e-04,  4.04039659e-02,  5.22735231e-02,\n",
       "       -3.34310047e-02, -5.78378849e-02, -2.27734596e-02, -4.99336384e-02,\n",
       "        2.63527744e-02, -2.97685657e-02, -4.84531671e-02, -2.69193780e-02,\n",
       "       -3.80977942e-03, -3.38337049e-02, -4.65441197e-02,  2.56215092e-02,\n",
       "       -4.32298742e-02, -2.89953668e-02,  3.11586279e-02, -2.43838541e-02,\n",
       "        1.19406804e-02,  1.19429296e-02,  1.26292603e-02,  7.86132552e-03,\n",
       "        2.31534131e-02,  7.38563295e-03, -1.05189495e-02,  1.87300425e-02,\n",
       "        2.55113328e-03,  3.20422426e-02, -1.94989902e-03,  1.82929095e-02,\n",
       "       -8.61617401e-02,  2.81160809e-02,  3.12763295e-04,  7.59528903e-03,\n",
       "        1.00608952e-02, -4.99630347e-02, -1.53875779e-02,  3.62127014e-02,\n",
       "        2.29873825e-02, -8.77910387e-03,  2.19044667e-02, -1.17702382e-02,\n",
       "        5.19344583e-03,  9.85725224e-03,  4.02909890e-02,  3.03257927e-02,\n",
       "       -6.23019040e-02,  4.77114469e-02,  4.72252853e-02, -1.66554528e-03,\n",
       "       -5.74537646e-03, -3.47953029e-02,  3.29511762e-02,  3.49634364e-02,\n",
       "       -2.54205824e-03,  2.26832721e-02, -6.97295109e-05, -2.89770849e-02,\n",
       "       -6.59514666e-02, -2.99329441e-02, -4.26830314e-02, -5.29281795e-02,\n",
       "       -2.70196423e-02,  6.10087179e-02, -2.63776351e-02, -6.65296940e-03,\n",
       "       -5.08423895e-03,  2.35466789e-02, -4.46114549e-03,  1.28748864e-02,\n",
       "       -1.30689805e-02,  5.12100272e-02,  2.85637379e-02,  3.46665084e-02,\n",
       "        3.26996297e-02,  5.11864014e-02, -1.46406209e-02,  2.06185784e-02,\n",
       "       -3.73776513e-03, -9.06629395e-03,  1.02182711e-02, -9.06191319e-02,\n",
       "        2.96243299e-02, -3.01952660e-03,  1.91342011e-02,  8.24163295e-03,\n",
       "        3.98799311e-03, -6.34653494e-02, -4.16652299e-02,  1.96202938e-02,\n",
       "        3.96504514e-02, -5.41079510e-03, -5.62548591e-03,  7.30922595e-02,\n",
       "        8.50404240e-03,  1.16617214e-02, -3.19290385e-02, -2.54147686e-02,\n",
       "        1.29134078e-02,  6.31438859e-04, -1.65539496e-02, -4.54770960e-02,\n",
       "        5.18435240e-02, -1.02506308e-02, -1.42912678e-02, -1.94656514e-02,\n",
       "       -2.26486456e-02,  6.08709815e-04, -8.68757535e-03,  1.06621068e-02,\n",
       "       -1.12016154e-02,  1.54427039e-02, -1.18364347e-02,  2.30684299e-02,\n",
       "        3.69707122e-02,  7.79926106e-02, -1.09368842e-02,  4.17488702e-02,\n",
       "        2.64964942e-02,  5.25078643e-03, -1.65668838e-02,  6.58961711e-03,\n",
       "        2.03597150e-03, -2.03906335e-02,  8.25875998e-02, -1.70556009e-02,\n",
       "        3.39378370e-04, -2.92940997e-02,  4.85527478e-02,  2.15979610e-02,\n",
       "       -4.55280095e-02,  9.69391875e-03,  1.57044753e-02, -4.90974523e-02,\n",
       "        2.38383338e-02,  2.31707608e-03, -5.40070981e-02,  1.19081754e-02,\n",
       "       -6.03354909e-03, -4.54183929e-02, -7.29732157e-04,  2.63137165e-02,\n",
       "        2.01124270e-02, -3.11038848e-02,  1.88713223e-02,  1.69518739e-02,\n",
       "       -3.39009170e-03,  4.78920825e-02,  1.71749014e-03,  3.52239981e-02,\n",
       "       -5.99833159e-03, -4.38153744e-02, -3.73573340e-02,  3.28110717e-02,\n",
       "       -1.51249003e-02,  5.00389524e-02,  5.27157262e-02,  7.60194566e-03,\n",
       "        3.63538675e-02,  5.58993896e-04, -3.37472111e-02, -6.25749445e-03],\n",
       "      dtype=float32)"
      ]
     },
     "execution_count": 19,
     "metadata": {},
     "output_type": "execute_result"
    }
   ],
   "source": [
    "docs_embed[0]"
   ]
  },
  {
   "cell_type": "code",
   "execution_count": 20,
   "id": "2f5332d0-a9d5-41f0-98ea-efdc44e53871",
   "metadata": {},
   "outputs": [],
   "source": [
    "query = \"What is a Compliment?\"\n",
    "query_embed = model.encode(query, normalize_embeddings=True)"
   ]
  },
  {
   "cell_type": "code",
   "execution_count": 21,
   "id": "2676665d-304f-4b75-ad39-2e4447550f63",
   "metadata": {},
   "outputs": [
    {
     "data": {
      "text/plain": [
       "(768,)"
      ]
     },
     "execution_count": 21,
     "metadata": {},
     "output_type": "execute_result"
    }
   ],
   "source": [
    "query_embed.shape"
   ]
  },
  {
   "cell_type": "code",
   "execution_count": 22,
   "id": "bd193ab0-74f4-4d3b-bac2-bf53d63242db",
   "metadata": {},
   "outputs": [],
   "source": [
    "import numpy as np\n",
    "similarities = np.dot(docs_embed, query_embed.T)"
   ]
  },
  {
   "cell_type": "code",
   "execution_count": 23,
   "id": "08216651-6ddf-4e65-bfc0-a8d4220914f2",
   "metadata": {},
   "outputs": [
    {
     "data": {
      "text/plain": [
       "(138,)"
      ]
     },
     "execution_count": 23,
     "metadata": {},
     "output_type": "execute_result"
    }
   ],
   "source": [
    "similarities.shape"
   ]
  },
  {
   "cell_type": "code",
   "execution_count": 24,
   "id": "b01e7f33-6f53-4fa3-90cf-421365b0955b",
   "metadata": {},
   "outputs": [
    {
     "data": {
      "text/plain": [
       "array([0.21193187, 0.20752305, 0.16059925, 0.22565615, 0.20161927,\n",
       "       0.21675368, 0.20734325, 0.14288828, 0.16594917, 0.22333947,\n",
       "       0.20231266, 0.20644201, 0.15325324, 0.23649922, 0.17900139,\n",
       "       0.16620736, 0.17910998, 0.28047544, 0.24652371, 0.20614173,\n",
       "       0.24490383, 0.12124216, 0.17521782, 0.15755165, 0.12103041,\n",
       "       0.11830758, 0.11031471, 0.15692346, 0.11260481, 0.09908512,\n",
       "       0.11730707, 0.18067598, 0.15226063, 0.19742787, 0.2372871 ,\n",
       "       0.14904873, 0.1864641 , 0.13716975, 0.23326322, 0.17878562,\n",
       "       0.17772575, 0.14515391, 0.10627279, 0.1360404 , 0.13520108,\n",
       "       0.17695658, 0.22516805, 0.20219205, 0.12073077, 0.17892186,\n",
       "       0.16058347, 0.133765  , 0.18169832, 0.16639437, 0.1626198 ,\n",
       "       0.10853694, 0.01488254, 0.07074218, 0.09016061, 0.0488317 ,\n",
       "       0.08029517, 0.08011675, 0.05815587, 0.04490294, 0.03692667,\n",
       "       0.17086901, 0.14279273, 0.406531  , 0.2584785 , 0.2801131 ,\n",
       "       0.34019762, 0.13289154, 0.14392142, 0.11979599, 0.35181436,\n",
       "       0.19751917, 0.24795395, 0.15611614, 0.20331371, 0.21708506,\n",
       "       0.22303773, 0.2092787 , 0.13513368, 0.15837687, 0.25065544,\n",
       "       0.1731644 , 0.16340563, 0.18335778, 0.17899796, 0.14672065,\n",
       "       0.15308559, 0.17847893, 0.15119125, 0.12633285, 0.12677304,\n",
       "       0.11869676, 0.26524454, 0.14707415, 0.16806544, 0.2005258 ,\n",
       "       0.21753152, 0.19094987, 0.12460784, 0.17690784, 0.1655878 ,\n",
       "       0.17949736, 0.14339234, 0.21520707, 0.1614537 , 0.16413134,\n",
       "       0.21992956, 0.1889966 , 0.23050159, 0.22815269, 0.21940495,\n",
       "       0.16586946, 0.12382379, 0.16252543, 0.14736432, 0.11019513,\n",
       "       0.10911049, 0.15259077, 0.16474324, 0.13925967, 0.1219304 ,\n",
       "       0.18527022, 0.15619445, 0.10659253, 0.08481369, 0.11845109,\n",
       "       0.13789038, 0.17786282, 0.25154194, 0.22833616, 0.20722342,\n",
       "       0.18339032, 0.21751662, 0.23092651], dtype=float32)"
      ]
     },
     "execution_count": 24,
     "metadata": {},
     "output_type": "execute_result"
    }
   ],
   "source": [
    "similarities"
   ]
  },
  {
   "cell_type": "code",
   "execution_count": 25,
   "id": "a261d448-33fc-4a35-b689-4e292a351e34",
   "metadata": {},
   "outputs": [],
   "source": [
    "top_3_idx = np.argsort(similarities, axis=0)[-3:][::-1].tolist()"
   ]
  },
  {
   "cell_type": "code",
   "execution_count": 26,
   "id": "fdd92752-e751-4c56-8b02-d9412e0c3eb9",
   "metadata": {},
   "outputs": [
    {
     "data": {
      "text/plain": [
       "[67, 74, 70]"
      ]
     },
     "execution_count": 26,
     "metadata": {},
     "output_type": "execute_result"
    }
   ],
   "source": [
    "top_3_idx"
   ]
  },
  {
   "cell_type": "code",
   "execution_count": 28,
   "id": "6e6483e2-106e-4061-9972-b9d8265124e3",
   "metadata": {},
   "outputs": [],
   "source": [
    "most_similar_documents = [pageWiseText[idx] for idx in top_3_idx]"
   ]
  },
  {
   "cell_type": "code",
   "execution_count": 29,
   "id": "b7c70a2d-9654-44c0-9e18-b82d30500699",
   "metadata": {
    "scrolled": true
   },
   "outputs": [
    {
     "name": "stdout",
     "output_type": "stream",
     "text": [
      "-----------------------------------------------------------------\n",
      "64 PAGE Department of Distance & Continuing Education, Campus of Open Learning,   School of Open\n",
      "Learning, University of DelhiNotesCOMPUTER SYSTEM ARCHITECTUREencoding scheme that accommodates a\n",
      "wide array of characters from  diverse languages and symbol sets. Employs variable-length encoding,\n",
      "such as UTF-8 or UTF-16 (where UTF is Unicode Transformation Format),  to depict characters. 3.6\n",
      "Compliments Complements are used in computers to make operations like subtraction  easier and for\n",
      "the logical manipulations. Radix r stands for the base of  the number system. There are two kinds of\n",
      "complements for each radix-r  system: (r-1)’ s complement r’ s complement (r−1)’s Complement\n",
      "The (r-1) complement of a number is a method used to represent negative  numbers in a specific radix\n",
      "(base) system. It is beneficial for carrying out  arithmetic computations, particularly subtraction.\n",
      "The (r-1) complement  of a number N in each radix r is obtained by subtracting each digit of  N from\n",
      "(r-1). Binary System (Base 2):  For a binary number (base 2), the r−1’s com - plement is known as\n",
      "the 1’s complement. Number: 1010 Radix: 2 (r-1) Complement Calculation: For base 2, r – 1 = 1.\n",
      "Subtract each digit from 1: 1 – 1 = 0 1 – 0 = 1 1 – 1 = 0 1 – 0 = 1 (1’s complement of\n",
      "1010): 0101 It can be obtained by inverting each digit as well (i.e., 0 → 1, 1 → 0). Computer System\n",
      "Architecture.indd   64 12-09-2024   17:25:37\n",
      "-----------------------------------------------------------------\n",
      "-----------------------------------------------------------------\n",
      "71 PAGE Department of Distance & Continuing Education, Campus of Open Learning,   School of Open\n",
      "Learning, University of DelhiNotesDATA  REPRESENTATION The signed magnitude representation is\n",
      "helpful while doing ordinary  arithmetic operations but in case of computer arithmetic signed 2’s\n",
      "com - pliment is used as it is easier to do calculations using 2’s compliment. Addition The rule for\n",
      "adding two integers using signed 2’s compliment repre - sentation only requires only addition and\n",
      "compliment. For addition we  need to add two numbers (in their signed 2’s compliment representation)\n",
      "including sign bit and in case we have a carry we need to discard it as  shown below in example\n",
      "(taken from Ref 1). In above example the negative results are in 2’s compliment representation  to\n",
      "interpret their value we need to convert it back like (−7) represented  as 11111001 above in 2’s\n",
      "compliment form. Hence taking 2’s compliment  of 11111001 will give 00000111 which is +7 the\n",
      "difference. Similarly,  11101101(−19) comes out to be 00010011(+19). This conversion is required  to\n",
      "provide clear interpretation of the result (remember this conversion  gives magnitude in a better\n",
      "way sign of the number is still negative). Subtraction As we already know that subtraction can be\n",
      "converted to addition if  the sign of subtrahend is changed. Hence, subtraction can be done by\n",
      "computing the 2’s compliment of subtrahend and adding it to minuend  Computer System\n",
      "Architecture.indd   71 12-09-2024   17:25:38\n",
      "-----------------------------------------------------------------\n",
      "-----------------------------------------------------------------\n",
      "67 PAGE Department of Distance & Continuing Education, Campus of Open Learning,   School of Open\n",
      "Learning, University of DelhiNotesDATA  REPRESENTATION 2. Add the complement to the minuend.  (734 +\n",
      "744) -> 1478 3. If there’ s an overflow, discard it.  Discard 1 from leftmost (overflow)  Answer:\n",
      "478 Subtraction using (r-1)’s Compliment Example 1:  subtract 0011 (3 in decimal) from 1010 (10 in\n",
      "decimal). Steps: 1. Find the 1’ s complement of the subtrahend.  001 1 -> 1100 2. Add the complement\n",
      "to the minuend.  (1010 + 1 100) -> 10110 3. If there is a carry , add it back to the result.  01 10\n",
      "+ 1 -> 0111  Answer: 01 11 i.e. 7 Example 2:  734 − 256 Steps: 1. Find the 9’ s complement of the\n",
      "subtrahend.  256 -> 743 2. Add the complement to the minuend.  (734 + 743) -> 1477 3. If there is a\n",
      "carry , add it back to the result.  477 + 1 -> 478  Answer: 478 3.7 Fixed Point Representation\n",
      "Fixed-point representation in computer architecture refers to a method of  representing and\n",
      "performing arithmetic operations on numerical values  with a fixed number of digits after (and\n",
      "sometimes before) the decimal  point. Here are the key aspects of fixed-point representation:\n",
      "Computer System Architecture.indd   67 12-09-2024   17:25:37\n",
      "-----------------------------------------------------------------\n"
     ]
    }
   ],
   "source": [
    "CONTEXT = \"\"\n",
    "for i, p in enumerate(most_similar_documents):\n",
    "  wrapped_text = textwrap.fill(p, width=100)\n",
    "\n",
    "  print(\"-----------------------------------------------------------------\")\n",
    "  print(wrapped_text)\n",
    "  print(\"-----------------------------------------------------------------\")\n",
    "  CONTEXT += wrapped_text + \"\\n\\n\"                   "
   ]
  },
  {
   "cell_type": "code",
   "execution_count": 30,
   "id": "75e07236-7a7b-4953-9188-d3f685b4ec73",
   "metadata": {},
   "outputs": [],
   "source": [
    "query = \"What is a Compliment?\""
   ]
  },
  {
   "cell_type": "code",
   "execution_count": 31,
   "id": "f9ead7b2-ee0f-4392-82d6-e812b8de6c26",
   "metadata": {},
   "outputs": [],
   "source": [
    "prompt = f\"\"\"\n",
    "use the following CONTEXT to answer the QUESTION at the end.\n",
    "If you don't know the answer, just say that you don't know, don't try to make up an answer.\n",
    "\n",
    "CONTEXT: {CONTEXT}\n",
    "QUESTION: {query}\n",
    "\n",
    "\"\"\""
   ]
  },
  {
   "cell_type": "code",
   "execution_count": 32,
   "id": "4096f60a-f91a-4489-923f-5db8bf6bf457",
   "metadata": {},
   "outputs": [
    {
     "name": "stdout",
     "output_type": "stream",
     "text": [
      "Requirement already satisfied: python-dotenv in c:\\users\\panka\\appdata\\local\\programs\\python\\python313\\lib\\site-packages (1.1.1)\n"
     ]
    }
   ],
   "source": [
    "!pip install -q openai\n",
    "!pip install python-dotenv"
   ]
  },
  {
   "cell_type": "code",
   "execution_count": 33,
   "id": "12a8478e-b881-4267-9ecc-9fdf001e5c42",
   "metadata": {},
   "outputs": [
    {
     "data": {
      "text/plain": [
       "True"
      ]
     },
     "execution_count": 33,
     "metadata": {},
     "output_type": "execute_result"
    }
   ],
   "source": [
    "import openai\n",
    "from dotenv import load_dotenv\n",
    "\n",
    "load_dotenv()"
   ]
  },
  {
   "cell_type": "code",
   "execution_count": 34,
   "id": "0c3d78a6-b806-4abf-9e44-609c913653c3",
   "metadata": {},
   "outputs": [],
   "source": [
    "from openai import OpenAI\n",
    "\n",
    "client = OpenAI(api_key=os.getenv(\"OPENAI_API_KEY\"))"
   ]
  },
  {
   "cell_type": "code",
   "execution_count": 35,
   "id": "38abc2c9-d803-41e3-8cdb-fbbee7697aac",
   "metadata": {},
   "outputs": [],
   "source": [
    "response = client.chat.completions.create(\n",
    "  model=\"gpt-4o\",\n",
    "  messages=[\n",
    "    {\"role\": \"user\", \"content\": prompt},\n",
    "  ]\n",
    ")"
   ]
  },
  {
   "cell_type": "code",
   "execution_count": 36,
   "id": "4a8b8e87-7000-454c-ba9c-780400a3522e",
   "metadata": {},
   "outputs": [
    {
     "name": "stdout",
     "output_type": "stream",
     "text": [
      "A \"Compliment\" is likely a typographical error in the provided context. The text actually discusses \"Complements,\" which in computer architecture are used to make operations like subtraction easier and for logical manipulations. Specifically, it refers to two kinds of complements for each radix-r system: the (r-1)’s complement and the r’s complement. For example, in the binary number system (base 2), the (r-1)'s complement is known as the 1’s complement, which can be obtained by inverting each digit of the number (i.e., changing 0s to 1s and 1s to 0s).\n"
     ]
    }
   ],
   "source": [
    "print(response.choices[0].message.content)"
   ]
  },
  {
   "cell_type": "code",
   "execution_count": null,
   "id": "298ea9bb-2116-46f3-8513-2b210fdfd1dd",
   "metadata": {},
   "outputs": [],
   "source": []
  }
 ],
 "metadata": {
  "kernelspec": {
   "display_name": "Python 3 (ipykernel)",
   "language": "python",
   "name": "python3"
  },
  "language_info": {
   "codemirror_mode": {
    "name": "ipython",
    "version": 3
   },
   "file_extension": ".py",
   "mimetype": "text/x-python",
   "name": "python",
   "nbconvert_exporter": "python",
   "pygments_lexer": "ipython3",
   "version": "3.13.3"
  }
 },
 "nbformat": 4,
 "nbformat_minor": 5
}
