{
 "cells": [
  {
   "cell_type": "code",
   "execution_count": 1,
   "id": "0d4ae84c-260c-4b45-8248-055617a90c58",
   "metadata": {},
   "outputs": [],
   "source": [
    "!pip install -q sentence-transformers\n",
    "!pip install -q wikipedia-api\n",
    "!pip install -q numpy\n",
    "!pip install -q scipy"
   ]
  },
  {
   "cell_type": "code",
   "execution_count": 2,
   "id": "231242a9-886d-456e-be06-53fe6b2746b9",
   "metadata": {},
   "outputs": [],
   "source": [
    "from sentence_transformers import SentenceTransformer\n",
    "model = SentenceTransformer(\"Alibaba-NLP/gte-base-en-v1.5\", trust_remote_code=True)"
   ]
  },
  {
   "cell_type": "code",
   "execution_count": 3,
   "id": "0801cbc9-7c6d-469d-bc03-4fce599265cb",
   "metadata": {},
   "outputs": [],
   "source": [
    "from wikipediaapi import Wikipedia\n",
    "wiki = Wikipedia('RAGBot/0.0', 'en')\n",
    "doc = wiki.page('Silk_Sonic').text\n",
    "paragraphs = doc.split('\\n\\n') # chunking"
   ]
  },
  {
   "cell_type": "code",
   "execution_count": 4,
   "id": "38b5cfa8-a2d2-4ed5-8d4a-522cb4770d28",
   "metadata": {},
   "outputs": [],
   "source": [
    "import textwrap"
   ]
  },
  {
   "cell_type": "code",
   "execution_count": 5,
   "id": "31975c2c-5dc5-401f-8ee9-c46ba2854503",
   "metadata": {
    "scrolled": true
   },
   "outputs": [
    {
     "name": "stdout",
     "output_type": "stream",
     "text": [
      "-----------------------------------------------------------------\n",
      "Silk Sonic is an American musical superduo composed of musicians Bruno Mars and Anderson .Paak. The\n",
      "duo released their debut single, \"Leave the Door Open\", in March 2021.  They later released \"Skate\"\n",
      "in July 2021, followed by third single, \"Smokin out the Window\", and their debut album, An Evening\n",
      "with Silk Sonic, in November 2021. The album peaked at number two on the Billboard 200, while the\n",
      "first three singles reached the top twenty on the Billboard Hot 100, with \"Leave the Door Open\"\n",
      "spending 18 weeks in the top ten and two non-consecutive weeks at the top spot. The song later won\n",
      "four Grammy Awards, including Record of the Year and Song of the Year.\n",
      "-----------------------------------------------------------------\n",
      "-----------------------------------------------------------------\n",
      "History 2017–present: Beginnings, breakthrough, and An Evening with Silk Sonic In 2017, Anderson\n",
      ".Paak was the opening act for Bruno Mars on the European leg of the 24K Magic World Tour. In April,\n",
      "Mars and .Paak worked together at Abbey Road Studios in London with Nile Rodgers and Guy Lawrence\n",
      "for Chic's album It's About Time, and worked on music while on tour that appeared on Paak's album\n",
      "Ventura. The duo was formed in 2017 by Mars and .Paak \"as a joke the two friends hatched on the\n",
      "road\". On February 26, 2021, Mars announced that he and .Paak had formed a band, saying, \"[Silk\n",
      "Sonic] locked in and made an album.\" In a press release, they said Bootsy Collins named the band\n",
      "after he heard the album. \"Leave the Door Open\", the band's debut album's lead single, was released\n",
      "on March 5, along with the intro song, hosted by Collins. The band made its television debut at the\n",
      "63rd Annual Grammy Awards performing the single, alongside a tribute to Little Richard consisting of\n",
      "\"Long Tall Sally\" and \"Good Golly, Miss Molly\". \"Leave the Door Open\" was performed again at the\n",
      "2021 iHeartRadio Music Awards, with a similar aesthetic. The duo won Best Group at the BET Awards\n",
      "2021. At the same ceremony, it performed \"Leave the Door Open\" again, alongside teasers of its\n",
      "forthcoming releases. On July 28, Mars announced that Silk Sonic would host a \"Summertime Jam\" two\n",
      "days later. This event turned out to mark the release of another single, \"Skate\", which was released\n",
      "on July 30 alongside an accompanying video. In October, the band announced that the album's release\n",
      "had been pushed ahead to November 12. On November 5, Silk Sonic released its third single, \"Smokin\n",
      "out the Window\", a week before the album's launch. On November 12, An Evening with Silk Sonic was\n",
      "released. On November 21, \"Smokin' Out the Window\" was performed as the opening act of the American\n",
      "Music Awards of 2021, where the duo also won Favorite Song – R&B. On January 19, 2022, it was\n",
      "announced that the duo would host a residency concert series at the Park MGM in Las Vegas. On\n",
      "February 3, they were announced to also make an appearance in Fortnite. On February 14, the duo\n",
      "released a cover of Con Funk Shun's \"Love's Train\", which was later released as single in Italy,\n",
      "making it the group's fourth single. On April 21, 2022, Billboard reported that \"Love's Train\" was\n",
      "the album's fourth single, with no official date of release in the United States. \"After Last Night\"\n",
      "was released as the next single on July 5, 2022. In September 2024, .Paak denied that the duo was\n",
      "defunct, saying that \"Silk Sonic always has a place to put out more music\".\n",
      "-----------------------------------------------------------------\n",
      "-----------------------------------------------------------------\n",
      "Musical style Silk Sonic's musical style has been described as R&B, soul, funk, pop, hip hop, and\n",
      "smooth soul. Its sound has also been described as disco-inspired. Of An Evening with Silk Sonic's\n",
      "sound, The Ringer wrote, \"though styled as a 1960s to '70s retro endeavor, Silk Sonic isn't a work\n",
      "of nostalgia but rather a fusion: funk, rap, and R&B as they've sounded in heavy rotation as\n",
      "recently as the 2000s.\" Sputnikmusic called the album \"rich and authentic, existing at the\n",
      "irresistible intersection between 70s funk nostalgia and the luxuries of a modern day studio. As a\n",
      "result, An Evening With Silk Sonic lives up to its billing as a true experience: it’s sexy, ever-so-\n",
      "smooth, and radiates confidence and charisma.\"\n",
      "-----------------------------------------------------------------\n",
      "-----------------------------------------------------------------\n",
      "Band members Principal members\n",
      "-----------------------------------------------------------------\n",
      "-----------------------------------------------------------------\n",
      "Bruno Mars – vocals, production, guitar, piano, congas (2021–present) Anderson .Paak – vocals,\n",
      "rapping, drums, production (2021–present) Touring members\n",
      "-----------------------------------------------------------------\n",
      "-----------------------------------------------------------------\n",
      "Philip Lawrence – backing vocals (2021–2022) Jamareo Artis – bass guitar (2021–2022) Eric Hernandez\n",
      "– drums (2021–2022) Kameron Whalum – trombone, backing vocals (2021–2022) Dwayne Dugger – saxophone\n",
      "(2021–2022) James King – trumpet, backing vocals (2021–2022) John Fossit – keyboards (2021–2022)\n",
      "Mateus Asato – lead guitar (2021–2022) Maurice \"Mobetta\" Brown – trumpet (2021-2022)\n",
      "-----------------------------------------------------------------\n",
      "-----------------------------------------------------------------\n",
      "Discography Studio albums Singles Promotional singles Other charted songs Awards and nominations\n",
      "Notes References External links Official website  Silk Sonic discography at Discogs\n",
      "-----------------------------------------------------------------\n"
     ]
    }
   ],
   "source": [
    "for i, p in enumerate(paragraphs):\n",
    "  wrapped_text = textwrap.fill(p, width=100)\n",
    "\n",
    "  print(\"-----------------------------------------------------------------\")\n",
    "  print(wrapped_text)\n",
    "  print(\"-----------------------------------------------------------------\")"
   ]
  },
  {
   "cell_type": "code",
   "execution_count": 6,
   "id": "acf766f0-1731-486f-9bae-a2208332de1a",
   "metadata": {},
   "outputs": [],
   "source": [
    "docs_embed = model.encode(paragraphs, normalize_embeddings=True)"
   ]
  },
  {
   "cell_type": "code",
   "execution_count": 7,
   "id": "dea81de3-9e25-4cd5-93ed-0cab99c59fa4",
   "metadata": {},
   "outputs": [
    {
     "data": {
      "text/plain": [
       "(7, 768)"
      ]
     },
     "execution_count": 7,
     "metadata": {},
     "output_type": "execute_result"
    }
   ],
   "source": [
    "docs_embed.shape"
   ]
  },
  {
   "cell_type": "code",
   "execution_count": 8,
   "id": "8cb27766-6875-402d-91b7-857c674fb5dc",
   "metadata": {
    "scrolled": true
   },
   "outputs": [
    {
     "data": {
      "text/plain": [
       "array([ 3.75271812e-02, -4.85358089e-02,  1.69990137e-02, -3.89322564e-02,\n",
       "        3.23089138e-02, -2.87614632e-02,  5.33560961e-02, -2.64595798e-03,\n",
       "        6.46743551e-03, -2.70928722e-02,  1.21302474e-02, -6.60750270e-02,\n",
       "        2.52066273e-02, -8.09831917e-03,  7.34939799e-03, -7.40109235e-02,\n",
       "       -3.19186226e-02, -7.15053082e-02, -9.12133325e-03, -3.15642096e-02,\n",
       "       -3.63807864e-02, -2.62687970e-02,  2.01912187e-02,  2.15709768e-02,\n",
       "        7.87328836e-03, -1.64775103e-02,  3.33012976e-02,  3.91034782e-02,\n",
       "        2.08830256e-02,  2.37077381e-02,  3.84917632e-02, -2.26394180e-02,\n",
       "       -1.33538246e-02,  8.78478494e-03, -3.84362824e-02,  1.81481913e-02,\n",
       "       -2.55182721e-02,  7.24443868e-02, -3.06680296e-02,  3.12690772e-02,\n",
       "       -3.91105600e-02,  4.75264736e-04, -2.31090542e-02,  6.34418381e-03,\n",
       "       -7.38116130e-02, -1.07810153e-02, -1.67395361e-02, -4.34494652e-02,\n",
       "        1.76723041e-02, -2.03240523e-03,  6.76081935e-03,  1.85174905e-02,\n",
       "       -2.38388367e-02,  2.96247681e-03, -2.96316613e-02,  1.28834005e-02,\n",
       "        3.20346616e-02,  5.14956154e-02, -1.46682560e-02, -6.42756596e-02,\n",
       "       -4.21893895e-02, -2.55580116e-02, -1.25067949e-03,  3.47433686e-02,\n",
       "       -4.43246104e-02, -2.67317542e-03,  5.88637777e-02, -6.65910542e-02,\n",
       "        3.44155803e-02, -1.02604507e-02, -1.13040004e-02, -3.62971448e-03,\n",
       "        1.19664511e-02, -2.12468617e-02,  9.93707925e-02,  8.97978526e-03,\n",
       "       -7.57947192e-03, -8.00617877e-03,  4.14834060e-02,  2.30861083e-02,\n",
       "       -4.89250699e-04,  1.81489345e-02, -5.17968275e-03,  3.53250615e-02,\n",
       "        6.00840990e-03,  8.86741653e-03,  4.07147892e-02,  9.94610228e-03,\n",
       "       -5.18425927e-02,  1.20783057e-02,  2.34757382e-02, -2.39302833e-02,\n",
       "       -2.20053643e-02,  2.11983435e-02, -1.21574206e-02,  1.06703714e-02,\n",
       "       -2.16096640e-02, -3.03347930e-02, -1.48934347e-03, -1.21854176e-03,\n",
       "       -1.61117315e-02,  2.43004654e-02,  5.33705391e-02,  7.70912506e-03,\n",
       "        2.43078284e-02, -4.08193283e-03,  2.14590728e-02, -9.13391914e-03,\n",
       "       -7.24168420e-02, -8.53458699e-03, -1.15784388e-02,  3.00915702e-03,\n",
       "        6.96314499e-04, -8.51833541e-03,  4.46702875e-02, -8.74507427e-02,\n",
       "        2.43027229e-02,  8.63676658e-04,  1.40171973e-02,  1.20582199e-02,\n",
       "       -8.58830847e-03,  3.96794640e-02,  2.94124912e-02,  1.47925485e-02,\n",
       "        9.91136022e-03, -3.37928981e-02,  3.67479697e-02, -2.34537963e-02,\n",
       "       -2.21223105e-02, -4.04993519e-02, -3.94989774e-02,  2.00450905e-02,\n",
       "       -2.69787181e-02, -9.96835646e-04, -4.85773794e-02,  3.89845707e-02,\n",
       "       -4.68488410e-02, -2.81926412e-02, -5.08558378e-03, -3.05478685e-02,\n",
       "       -3.10473014e-02, -3.90874557e-02,  9.56267864e-03,  3.58488075e-02,\n",
       "        7.77785317e-04, -4.06116024e-02, -7.97349494e-03,  3.57002839e-02,\n",
       "        4.22465168e-02,  1.93870161e-02, -1.39251444e-02,  1.38986204e-02,\n",
       "       -4.77965828e-03,  1.81199834e-02, -7.46227801e-02, -9.16453265e-03,\n",
       "        4.89806384e-02,  6.91416487e-02,  5.47595881e-02,  6.19064039e-03,\n",
       "       -1.60463285e-02,  2.46148612e-02, -5.55902766e-03, -2.32266020e-02,\n",
       "       -3.64588425e-02,  4.65239994e-02, -1.57682151e-02,  5.53824194e-02,\n",
       "        1.88139118e-02, -6.41600937e-02,  5.90123869e-02,  4.10935730e-02,\n",
       "        1.19127892e-02,  2.55380962e-02, -2.87933555e-02, -3.06161102e-02,\n",
       "       -8.67362600e-03, -2.52403319e-02,  1.15349749e-03, -1.31523423e-02,\n",
       "       -5.22852466e-02, -1.31473280e-02,  5.01418486e-02,  1.55473379e-02,\n",
       "       -3.25241219e-03,  1.28236609e-02,  6.08199425e-02, -2.74434756e-03,\n",
       "        6.86958712e-03,  2.97232997e-02, -1.04932506e-02, -3.53339650e-02,\n",
       "       -2.97421459e-02, -4.31664623e-02, -5.42975441e-02,  9.87100787e-03,\n",
       "       -5.46204075e-02, -1.86733599e-03,  2.05459669e-02, -1.90680716e-02,\n",
       "        3.84133030e-03, -1.32597499e-02,  2.64223199e-02, -2.73699462e-02,\n",
       "        3.71947209e-03,  8.89191777e-02, -2.18447875e-02, -1.65104996e-02,\n",
       "       -3.60985063e-02, -3.88774090e-02,  2.68766880e-02,  9.99919791e-03,\n",
       "        9.20157973e-03, -4.56165746e-02, -9.12963133e-03,  6.39072096e-04,\n",
       "        1.40707949e-02,  6.10220106e-03, -1.89836621e-02,  4.87753339e-02,\n",
       "        1.64566990e-02,  1.91622656e-02, -5.55774942e-02,  2.50863414e-02,\n",
       "        3.53481285e-02, -9.41801991e-04, -6.78205723e-03,  1.05019715e-02,\n",
       "        2.25894153e-02, -1.27164191e-02,  1.31799076e-02,  1.19095284e-03,\n",
       "        3.50221470e-02,  2.37183273e-02,  2.99183838e-02, -2.78360979e-03,\n",
       "        3.73372645e-03,  1.95165202e-02, -4.28608730e-02, -2.48945914e-02,\n",
       "       -1.50677180e-02,  1.43872928e-02,  5.47580868e-02, -1.37510151e-03,\n",
       "       -1.27126742e-02, -2.88722590e-02,  2.38220696e-03,  1.15301749e-02,\n",
       "       -5.58807552e-02, -2.97416430e-02, -7.32614622e-02, -1.23278713e-02,\n",
       "       -2.75382716e-02, -4.44488637e-02, -2.48885192e-02, -4.33844440e-02,\n",
       "        5.06208763e-02, -2.56134886e-02, -3.98858339e-02, -2.01665778e-02,\n",
       "        1.26836756e-02,  4.49545821e-03, -4.70439456e-02, -1.85479503e-02,\n",
       "        8.29984918e-02,  6.25696480e-02, -2.37662811e-02,  3.84625010e-02,\n",
       "       -1.35330651e-02, -2.42820103e-02, -1.30751869e-02,  1.58649534e-02,\n",
       "       -2.44070571e-02,  7.56157329e-03,  1.69453267e-02,  3.94508848e-03,\n",
       "       -3.63377854e-02, -1.30050378e-02, -8.71865358e-03,  5.22526093e-02,\n",
       "        1.67928599e-02, -8.48083720e-02,  7.02935085e-02,  6.12160750e-02,\n",
       "        6.77014561e-03,  4.06079888e-02, -4.30891700e-02, -1.63205136e-02,\n",
       "       -3.80235836e-02, -4.24889214e-02,  3.03230248e-02, -3.43552083e-02,\n",
       "        3.08591407e-02,  2.82214060e-02, -4.52412851e-02, -5.24517223e-02,\n",
       "        4.23865626e-03,  2.26492882e-02,  2.83930413e-02,  3.55502777e-02,\n",
       "        4.55565974e-02,  1.49327610e-02,  1.78907178e-02, -2.20685657e-02,\n",
       "        1.78311635e-02, -7.96102732e-03, -5.49589321e-02, -4.51061316e-02,\n",
       "       -4.73757274e-02, -5.88206686e-02,  6.54287711e-02,  2.18214411e-02,\n",
       "        4.58899662e-02,  5.20581529e-02,  3.30512673e-02,  5.60898683e-04,\n",
       "        4.51460946e-03, -1.50521472e-02, -5.72118210e-03, -4.40331846e-02,\n",
       "        2.58821249e-02, -4.91530113e-02,  1.57162771e-02,  3.02065890e-02,\n",
       "       -2.53893975e-02, -2.78411862e-02,  3.55666317e-02,  2.90496219e-02,\n",
       "        3.55418138e-02,  1.29133284e-01, -2.30397619e-02, -5.53773716e-03,\n",
       "       -2.08943058e-03,  6.77880570e-02, -4.87820655e-02, -2.97868764e-03,\n",
       "       -9.25940741e-03, -4.29611467e-03,  6.79331180e-03, -2.13175267e-02,\n",
       "       -2.33589169e-02,  8.59820936e-03,  1.54264038e-02,  8.18964690e-02,\n",
       "       -5.15367128e-02,  2.09120102e-02, -9.09696147e-03, -4.77180956e-03,\n",
       "        1.55397886e-02,  1.67050753e-02, -2.00403016e-02,  4.46573785e-03,\n",
       "       -7.89732952e-03,  1.83168817e-02, -1.15649236e-04,  6.25062594e-03,\n",
       "       -1.72264583e-03,  1.22049721e-02, -7.34660076e-03, -6.63101450e-02,\n",
       "        4.15346473e-02, -9.35517251e-03,  2.89915428e-02,  2.68911514e-02,\n",
       "       -4.59896168e-03,  2.61561014e-02, -3.35661359e-02,  2.64390577e-02,\n",
       "        4.47749533e-03,  4.07385975e-02,  1.39308954e-02, -2.61074901e-02,\n",
       "        2.82299817e-02, -1.11307697e-02, -4.33957241e-02, -1.14130210e-02,\n",
       "       -3.20030227e-02,  5.18187531e-04, -9.68997047e-05, -4.67116944e-02,\n",
       "        1.21777237e-03,  1.71557963e-02, -1.09331468e-02,  2.79312171e-02,\n",
       "       -3.22498307e-02, -3.33277439e-03, -3.20324935e-02,  4.09397222e-02,\n",
       "       -1.02336193e-02, -3.40448767e-02, -1.55839119e-02,  1.70866102e-02,\n",
       "        2.63356548e-02,  1.18373428e-02,  1.20983934e-02, -4.29896521e-04,\n",
       "        1.18318927e-02, -6.18293956e-02,  7.58849531e-02, -2.55791955e-02,\n",
       "       -3.55582219e-03, -1.45691987e-02,  5.73291117e-03,  2.31901500e-02,\n",
       "       -2.15927716e-02, -6.78070076e-03,  1.82560328e-02,  5.56170568e-03,\n",
       "       -3.68396472e-03,  6.88766465e-02,  3.65892947e-02,  2.25579720e-02,\n",
       "       -3.29796076e-02, -8.88970420e-02,  5.83069474e-02, -3.13846208e-02,\n",
       "       -1.60730202e-02,  5.91294793e-03, -1.75667964e-02,  2.29843184e-02,\n",
       "        1.45943044e-02, -4.88258638e-06, -1.06420489e-02, -6.42633513e-02,\n",
       "        5.51559739e-02,  1.47727728e-02, -1.65069364e-02, -3.41563076e-02,\n",
       "        1.68812610e-02, -4.37675044e-02, -4.97371107e-02,  5.17123230e-02,\n",
       "       -4.60421741e-02,  3.47783454e-02, -2.83420105e-02, -2.77732238e-02,\n",
       "       -2.25675181e-02,  1.52406711e-02, -7.85638206e-03,  1.85213443e-02,\n",
       "       -1.29117500e-02, -9.77997575e-03, -2.75312979e-02,  2.46247556e-02,\n",
       "        4.34787832e-02, -2.00000200e-02, -3.43803540e-02, -1.99395139e-02,\n",
       "       -3.11559085e-02, -2.55262498e-02,  1.22684864e-02, -9.91923735e-02,\n",
       "        2.41651032e-02,  4.01418917e-02, -8.80694389e-03,  2.46998034e-02,\n",
       "       -2.64922138e-02, -2.32568253e-02, -2.02352554e-02, -4.97881919e-02,\n",
       "       -2.31522247e-02, -1.61134067e-03,  1.48772150e-02, -4.75692712e-02,\n",
       "       -1.32062854e-02, -2.72422414e-02, -1.46114230e-02,  4.68897261e-03,\n",
       "       -4.34218645e-02,  1.37130031e-02,  1.30153652e-02, -1.34766949e-02,\n",
       "        6.63002627e-03, -3.32532190e-02,  5.76532669e-02, -6.65565580e-02,\n",
       "       -1.91370826e-02,  3.87071967e-02,  2.73992307e-02, -3.30909565e-02,\n",
       "       -1.91091597e-02, -3.96295935e-02, -2.39713900e-02, -1.84978005e-02,\n",
       "       -5.65781668e-02,  3.18168616e-03, -1.53076295e-02, -2.88465302e-02,\n",
       "        1.83383878e-02,  1.63449198e-02,  5.68112265e-03, -7.13140443e-02,\n",
       "       -3.46360877e-02,  4.41222042e-02, -1.49596445e-02, -9.50934645e-03,\n",
       "        3.08997906e-03, -1.58462524e-02,  2.52311379e-02, -3.31514552e-02,\n",
       "        2.95894239e-02,  6.33930089e-04, -3.49426419e-02,  1.01028634e-02,\n",
       "       -8.71029310e-03,  7.59001914e-03,  1.37762139e-02,  4.68997993e-02,\n",
       "       -8.88339281e-02,  1.67620722e-02, -4.69232202e-02,  5.41630834e-02,\n",
       "        3.78612876e-02,  1.15672611e-02, -5.28711192e-02, -7.65519366e-02,\n",
       "       -2.28804462e-02, -1.14167094e-01,  8.61462206e-03,  9.96480789e-03,\n",
       "       -1.92075856e-02, -1.70553550e-02,  8.01817514e-03,  1.10867675e-02,\n",
       "        1.94874071e-02, -6.25763275e-03, -1.49422307e-02, -1.65106095e-02,\n",
       "        2.04662867e-02,  1.13732051e-02,  2.38616969e-02,  3.45584713e-02,\n",
       "        3.40027362e-02, -3.31187658e-02, -6.18862174e-03, -4.17426750e-02,\n",
       "        3.47930305e-02, -9.01228841e-03,  8.93569738e-03, -2.03411672e-02,\n",
       "       -7.59874880e-02,  1.29571613e-02,  2.49980669e-02,  2.00105440e-02,\n",
       "       -6.41040551e-03,  4.10319455e-02,  2.47747861e-02, -2.97874724e-03,\n",
       "       -7.95337707e-02,  2.87402179e-02,  2.02682018e-02,  3.30534913e-02,\n",
       "       -9.25158039e-02, -4.70752455e-02,  3.98465954e-02,  1.34546300e-02,\n",
       "       -3.94849062e-01, -3.34393326e-03,  2.74567232e-02,  3.48474295e-03,\n",
       "        3.08594038e-03, -1.08388169e-02, -3.44125764e-03, -1.71545912e-02,\n",
       "        2.00232230e-02, -9.57775414e-02,  1.26156956e-02, -1.01436954e-03,\n",
       "       -1.67526044e-02, -3.16017494e-02,  3.12239062e-02,  1.40411714e-02,\n",
       "        7.64321489e-03, -1.12146558e-02, -8.28147400e-03,  3.94640937e-02,\n",
       "       -4.84407553e-03,  2.10264996e-02,  1.63122341e-02, -3.01630609e-03,\n",
       "        6.39694035e-02,  1.29642570e-02, -1.93446614e-02,  7.62001500e-02,\n",
       "       -3.20520997e-02,  4.43301426e-04,  7.39495922e-03, -4.52261120e-02,\n",
       "        1.04845818e-02,  2.22264975e-02,  2.05746610e-02,  3.44821922e-02,\n",
       "        2.55592796e-03,  3.99048999e-03,  5.24883978e-02, -2.95484555e-04,\n",
       "       -1.33165214e-02,  2.36653518e-02,  5.59856789e-03,  2.29318962e-02,\n",
       "        7.58334855e-03,  4.02255654e-02, -1.05095236e-02, -7.10432157e-02,\n",
       "        6.72670379e-02,  6.95398152e-02,  3.31737623e-02,  2.42098654e-03,\n",
       "        6.98156469e-03,  1.60992276e-02, -3.36495526e-02,  1.64485797e-02,\n",
       "       -4.84539568e-03, -1.35471509e-03,  6.20845295e-02,  2.38766405e-03,\n",
       "       -3.42245102e-02, -2.49524768e-02,  4.45718355e-02, -2.72421334e-02,\n",
       "       -4.43262905e-02,  6.86394563e-03,  1.87514648e-02, -8.83610472e-02,\n",
       "       -1.25049092e-02,  3.68828662e-02, -2.11182120e-03, -4.55076918e-02,\n",
       "       -4.62766774e-02, -1.00052422e-02,  3.98827717e-02, -2.25070156e-02,\n",
       "       -1.38954129e-02,  2.46681385e-02, -4.20164391e-02,  6.16502948e-03,\n",
       "       -3.11352368e-02,  1.97144952e-02, -4.82562324e-03,  1.99904013e-02,\n",
       "       -3.68117131e-02, -1.47301592e-02, -8.90618563e-03,  6.45269305e-02,\n",
       "       -3.72309200e-02, -8.20310786e-03,  3.82776819e-02,  1.42109524e-02,\n",
       "       -4.69862744e-02, -3.73064838e-02, -5.24444878e-02,  6.32969886e-02,\n",
       "        6.19354025e-02,  2.28040591e-02,  4.98271435e-02,  3.98752512e-03,\n",
       "       -7.37541616e-02, -1.52963102e-02,  1.85310235e-03,  3.31209376e-02,\n",
       "       -5.48703736e-03, -1.78797673e-02, -2.03970056e-02, -1.31196296e-02,\n",
       "       -4.37750071e-02, -8.68456997e-03, -1.82963442e-02, -3.73213217e-02,\n",
       "        3.40298563e-02, -4.48799459e-03,  3.98103781e-02,  3.99372168e-03,\n",
       "       -1.69168282e-02,  1.51474858e-02, -2.88180746e-02,  3.34335901e-02,\n",
       "        3.37341465e-02, -1.23078339e-02, -9.70602222e-03,  1.09012825e-02,\n",
       "        5.71199646e-03, -2.67750416e-02,  4.81423102e-02,  5.97846322e-03,\n",
       "        1.49403587e-02, -3.03113330e-02, -2.10676924e-03,  7.79527649e-02,\n",
       "        3.16615738e-02,  3.81542556e-02,  2.97634434e-02, -3.59201059e-02,\n",
       "       -1.57234445e-02,  6.58128643e-03,  4.50631883e-03,  1.00041013e-02,\n",
       "       -7.45804980e-04, -1.66295525e-02, -1.59984939e-02,  1.55049888e-02,\n",
       "        2.61255968e-02,  1.81233473e-02, -2.75206808e-02,  5.88247664e-02,\n",
       "       -2.33053658e-02,  1.83475297e-02,  3.90607268e-02,  4.70722504e-02,\n",
       "        4.07817662e-02, -5.69031313e-02, -2.01313756e-02, -5.38382605e-02,\n",
       "       -2.52565704e-02, -1.32386265e-02,  1.28873085e-04, -3.36001217e-02,\n",
       "       -4.62094955e-02, -2.49428805e-02,  3.99345830e-02,  5.90195023e-02,\n",
       "       -1.19149545e-02,  7.31798913e-03, -6.39031734e-03,  1.63733531e-02,\n",
       "       -2.11432502e-02,  8.23856972e-04, -7.80305685e-03,  3.94337177e-02,\n",
       "       -4.26227003e-02,  3.92498337e-02,  9.73343011e-03, -9.74540599e-03,\n",
       "       -2.71337177e-03,  3.13388817e-02,  6.54859617e-02, -8.33997726e-02,\n",
       "        2.74725538e-02, -1.36251971e-02, -4.59107105e-03,  3.46417204e-02,\n",
       "       -3.22324336e-02, -4.28220723e-03,  3.53600038e-03, -2.72709709e-02,\n",
       "       -4.47881204e-04,  7.98572972e-03, -2.13467665e-02,  1.12067396e-02,\n",
       "       -2.26654857e-02, -7.89600704e-03, -4.52878736e-02, -2.20524818e-02,\n",
       "       -1.53121315e-02, -1.52591094e-02, -7.29822144e-02, -6.55656401e-03,\n",
       "        1.54602742e-02, -5.91069609e-02,  5.35883592e-04,  1.22902226e-02,\n",
       "       -3.91347297e-02, -5.66208502e-03, -2.90914997e-02,  5.44221289e-02,\n",
       "       -1.96587685e-02, -2.73888968e-02, -3.70134562e-02, -2.16791350e-02],\n",
       "      dtype=float32)"
      ]
     },
     "execution_count": 8,
     "metadata": {},
     "output_type": "execute_result"
    }
   ],
   "source": [
    "docs_embed[0]"
   ]
  },
  {
   "cell_type": "code",
   "execution_count": 25,
   "id": "2f5332d0-a9d5-41f0-98ea-efdc44e53871",
   "metadata": {},
   "outputs": [],
   "source": [
    "query = \"What is the music style of taylor swift\"\n",
    "query_embed = model.encode(query, normalize_embeddings=True)"
   ]
  },
  {
   "cell_type": "code",
   "execution_count": 26,
   "id": "2676665d-304f-4b75-ad39-2e4447550f63",
   "metadata": {},
   "outputs": [
    {
     "data": {
      "text/plain": [
       "(768,)"
      ]
     },
     "execution_count": 26,
     "metadata": {},
     "output_type": "execute_result"
    }
   ],
   "source": [
    "query_embed.shape"
   ]
  },
  {
   "cell_type": "code",
   "execution_count": 27,
   "id": "bd193ab0-74f4-4d3b-bac2-bf53d63242db",
   "metadata": {},
   "outputs": [],
   "source": [
    "import numpy as np\n",
    "similarities = np.dot(docs_embed, query_embed.T)"
   ]
  },
  {
   "cell_type": "code",
   "execution_count": 28,
   "id": "08216651-6ddf-4e65-bfc0-a8d4220914f2",
   "metadata": {},
   "outputs": [
    {
     "data": {
      "text/plain": [
       "(7,)"
      ]
     },
     "execution_count": 28,
     "metadata": {},
     "output_type": "execute_result"
    }
   ],
   "source": [
    "similarities.shape"
   ]
  },
  {
   "cell_type": "code",
   "execution_count": 29,
   "id": "b01e7f33-6f53-4fa3-90cf-421365b0955b",
   "metadata": {},
   "outputs": [
    {
     "data": {
      "text/plain": [
       "array([0.39204654, 0.3076191 , 0.45517075, 0.24736863, 0.28750896,\n",
       "       0.22191258, 0.23579693], dtype=float32)"
      ]
     },
     "execution_count": 29,
     "metadata": {},
     "output_type": "execute_result"
    }
   ],
   "source": [
    "similarities"
   ]
  },
  {
   "cell_type": "code",
   "execution_count": 30,
   "id": "a261d448-33fc-4a35-b689-4e292a351e34",
   "metadata": {},
   "outputs": [],
   "source": [
    "top_3_idx = np.argsort(similarities, axis=0)[-3:][::-1].tolist()"
   ]
  },
  {
   "cell_type": "code",
   "execution_count": 31,
   "id": "fdd92752-e751-4c56-8b02-d9412e0c3eb9",
   "metadata": {},
   "outputs": [
    {
     "data": {
      "text/plain": [
       "[2, 0, 1]"
      ]
     },
     "execution_count": 31,
     "metadata": {},
     "output_type": "execute_result"
    }
   ],
   "source": [
    "top_3_idx"
   ]
  },
  {
   "cell_type": "code",
   "execution_count": 32,
   "id": "6e6483e2-106e-4061-9972-b9d8265124e3",
   "metadata": {},
   "outputs": [],
   "source": [
    "most_similar_documents = [paragraphs[idx] for idx in top_3_idx]"
   ]
  },
  {
   "cell_type": "code",
   "execution_count": 33,
   "id": "b7c70a2d-9654-44c0-9e18-b82d30500699",
   "metadata": {
    "scrolled": true
   },
   "outputs": [
    {
     "name": "stdout",
     "output_type": "stream",
     "text": [
      "-----------------------------------------------------------------\n",
      "Musical style Silk Sonic's musical style has been described as R&B, soul, funk, pop, hip hop, and\n",
      "smooth soul. Its sound has also been described as disco-inspired. Of An Evening with Silk Sonic's\n",
      "sound, The Ringer wrote, \"though styled as a 1960s to '70s retro endeavor, Silk Sonic isn't a work\n",
      "of nostalgia but rather a fusion: funk, rap, and R&B as they've sounded in heavy rotation as\n",
      "recently as the 2000s.\" Sputnikmusic called the album \"rich and authentic, existing at the\n",
      "irresistible intersection between 70s funk nostalgia and the luxuries of a modern day studio. As a\n",
      "result, An Evening With Silk Sonic lives up to its billing as a true experience: it’s sexy, ever-so-\n",
      "smooth, and radiates confidence and charisma.\"\n",
      "-----------------------------------------------------------------\n",
      "-----------------------------------------------------------------\n",
      "Silk Sonic is an American musical superduo composed of musicians Bruno Mars and Anderson .Paak. The\n",
      "duo released their debut single, \"Leave the Door Open\", in March 2021.  They later released \"Skate\"\n",
      "in July 2021, followed by third single, \"Smokin out the Window\", and their debut album, An Evening\n",
      "with Silk Sonic, in November 2021. The album peaked at number two on the Billboard 200, while the\n",
      "first three singles reached the top twenty on the Billboard Hot 100, with \"Leave the Door Open\"\n",
      "spending 18 weeks in the top ten and two non-consecutive weeks at the top spot. The song later won\n",
      "four Grammy Awards, including Record of the Year and Song of the Year.\n",
      "-----------------------------------------------------------------\n",
      "-----------------------------------------------------------------\n",
      "History 2017–present: Beginnings, breakthrough, and An Evening with Silk Sonic In 2017, Anderson\n",
      ".Paak was the opening act for Bruno Mars on the European leg of the 24K Magic World Tour. In April,\n",
      "Mars and .Paak worked together at Abbey Road Studios in London with Nile Rodgers and Guy Lawrence\n",
      "for Chic's album It's About Time, and worked on music while on tour that appeared on Paak's album\n",
      "Ventura. The duo was formed in 2017 by Mars and .Paak \"as a joke the two friends hatched on the\n",
      "road\". On February 26, 2021, Mars announced that he and .Paak had formed a band, saying, \"[Silk\n",
      "Sonic] locked in and made an album.\" In a press release, they said Bootsy Collins named the band\n",
      "after he heard the album. \"Leave the Door Open\", the band's debut album's lead single, was released\n",
      "on March 5, along with the intro song, hosted by Collins. The band made its television debut at the\n",
      "63rd Annual Grammy Awards performing the single, alongside a tribute to Little Richard consisting of\n",
      "\"Long Tall Sally\" and \"Good Golly, Miss Molly\". \"Leave the Door Open\" was performed again at the\n",
      "2021 iHeartRadio Music Awards, with a similar aesthetic. The duo won Best Group at the BET Awards\n",
      "2021. At the same ceremony, it performed \"Leave the Door Open\" again, alongside teasers of its\n",
      "forthcoming releases. On July 28, Mars announced that Silk Sonic would host a \"Summertime Jam\" two\n",
      "days later. This event turned out to mark the release of another single, \"Skate\", which was released\n",
      "on July 30 alongside an accompanying video. In October, the band announced that the album's release\n",
      "had been pushed ahead to November 12. On November 5, Silk Sonic released its third single, \"Smokin\n",
      "out the Window\", a week before the album's launch. On November 12, An Evening with Silk Sonic was\n",
      "released. On November 21, \"Smokin' Out the Window\" was performed as the opening act of the American\n",
      "Music Awards of 2021, where the duo also won Favorite Song – R&B. On January 19, 2022, it was\n",
      "announced that the duo would host a residency concert series at the Park MGM in Las Vegas. On\n",
      "February 3, they were announced to also make an appearance in Fortnite. On February 14, the duo\n",
      "released a cover of Con Funk Shun's \"Love's Train\", which was later released as single in Italy,\n",
      "making it the group's fourth single. On April 21, 2022, Billboard reported that \"Love's Train\" was\n",
      "the album's fourth single, with no official date of release in the United States. \"After Last Night\"\n",
      "was released as the next single on July 5, 2022. In September 2024, .Paak denied that the duo was\n",
      "defunct, saying that \"Silk Sonic always has a place to put out more music\".\n",
      "-----------------------------------------------------------------\n"
     ]
    }
   ],
   "source": [
    "CONTEXT = \"\"\n",
    "for i, p in enumerate(most_similar_documents):\n",
    "  wrapped_text = textwrap.fill(p, width=100)\n",
    "\n",
    "  print(\"-----------------------------------------------------------------\")\n",
    "  print(wrapped_text)\n",
    "  print(\"-----------------------------------------------------------------\")\n",
    "  CONTEXT += wrapped_text + \"\\n\\n\"                   "
   ]
  },
  {
   "cell_type": "code",
   "execution_count": 34,
   "id": "75e07236-7a7b-4953-9188-d3f685b4ec73",
   "metadata": {},
   "outputs": [],
   "source": [
    "query = \"What is the music style of taylor swift?\""
   ]
  },
  {
   "cell_type": "code",
   "execution_count": 35,
   "id": "f9ead7b2-ee0f-4392-82d6-e812b8de6c26",
   "metadata": {},
   "outputs": [],
   "source": [
    "prompt = f\"\"\"\n",
    "use the following CONTEXT to answer the QUESTION at the end.\n",
    "If you don't know the answer, just say that you don't know, don't try to make up an answer.\n",
    "\n",
    "CONTEXT: {CONTEXT}\n",
    "QUESTION: {query}\n",
    "\n",
    "\"\"\""
   ]
  },
  {
   "cell_type": "code",
   "execution_count": 2,
   "id": "4096f60a-f91a-4489-923f-5db8bf6bf457",
   "metadata": {},
   "outputs": [
    {
     "name": "stdout",
     "output_type": "stream",
     "text": [
      "Requirement already satisfied: python-dotenv in c:\\users\\panka\\appdata\\local\\programs\\python\\python313\\lib\\site-packages (1.1.1)\n"
     ]
    }
   ],
   "source": [
    "!pip install -q openai\n",
    "!pip install python-dotenv"
   ]
  },
  {
   "cell_type": "code",
   "execution_count": 3,
   "id": "12a8478e-b881-4267-9ecc-9fdf001e5c42",
   "metadata": {},
   "outputs": [
    {
     "data": {
      "text/plain": [
       "True"
      ]
     },
     "execution_count": 3,
     "metadata": {},
     "output_type": "execute_result"
    }
   ],
   "source": [
    "import openai\n",
    "from dotenv import load_dotenv\n",
    "import os\n",
    "\n",
    "load_dotenv()"
   ]
  },
  {
   "cell_type": "code",
   "execution_count": 4,
   "id": "0c3d78a6-b806-4abf-9e44-609c913653c3",
   "metadata": {},
   "outputs": [],
   "source": [
    "from openai import OpenAI\n",
    "client = OpenAI(api_key=os.getenv(\"OPENAI_API_KEY\"))"
   ]
  },
  {
   "cell_type": "code",
   "execution_count": 39,
   "id": "38abc2c9-d803-41e3-8cdb-fbbee7697aac",
   "metadata": {},
   "outputs": [],
   "source": [
    "response = client.chat.completions.create(\n",
    "  model=\"gpt-4o\",\n",
    "  messages=[\n",
    "    {\"role\": \"user\", \"content\": prompt},\n",
    "  ]\n",
    ")"
   ]
  },
  {
   "cell_type": "code",
   "execution_count": 40,
   "id": "4a8b8e87-7000-454c-ba9c-780400a3522e",
   "metadata": {},
   "outputs": [
    {
     "name": "stdout",
     "output_type": "stream",
     "text": [
      "I don't know. The provided context focuses on the musical style of Silk Sonic and does not provide information about Taylor Swift's music style.\n"
     ]
    }
   ],
   "source": [
    "print(response.choices[0].message.content)"
   ]
  },
  {
   "cell_type": "code",
   "execution_count": null,
   "id": "298ea9bb-2116-46f3-8513-2b210fdfd1dd",
   "metadata": {},
   "outputs": [],
   "source": []
  }
 ],
 "metadata": {
  "kernelspec": {
   "display_name": "Python 3 (ipykernel)",
   "language": "python",
   "name": "python3"
  },
  "language_info": {
   "codemirror_mode": {
    "name": "ipython",
    "version": 3
   },
   "file_extension": ".py",
   "mimetype": "text/x-python",
   "name": "python",
   "nbconvert_exporter": "python",
   "pygments_lexer": "ipython3",
   "version": "3.13.3"
  }
 },
 "nbformat": 4,
 "nbformat_minor": 5
}
