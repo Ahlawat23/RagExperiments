{
 "cells": [
  {
   "cell_type": "code",
   "execution_count": 10,
   "id": "0d4ae84c-260c-4b45-8248-055617a90c58",
   "metadata": {},
   "outputs": [
    {
     "name": "stdout",
     "output_type": "stream",
     "text": [
      "Requirement already satisfied: PyPDF2 in c:\\users\\panka\\appdata\\local\\programs\\python\\python313\\lib\\site-packages (3.0.1)\n"
     ]
    }
   ],
   "source": [
    "!pip install -q sentence-transformers\n",
    "!pip install -q wikipedia-api\n",
    "!pip install -q numpy\n",
    "!pip install -q scipy\n",
    "!pip install PyPDF2"
   ]
  },
  {
   "cell_type": "code",
   "execution_count": null,
   "id": "231242a9-886d-456e-be06-53fe6b2746b9",
   "metadata": {},
   "outputs": [],
   "source": [
    "from sentence_transformers import SentenceTransformer\n",
    "model = SentenceTransformer(\"Alibaba-NLP/gte-base-en-v1.5\", trust_remote_code=True)"
   ]
  },
  {
   "cell_type": "code",
   "execution_count": null,
   "id": "0801cbc9-7c6d-469d-bc03-4fce599265cb",
   "metadata": {},
   "outputs": [],
   "source": [
    "import PyPDF2\n",
    "\n",
    "\n",
    "# Path to your PDF file\n",
    "file_path = \"E:/Download drive/sol/sem3/computerArchitecture.pdf\"\n",
    "\n",
    "\n",
    "pageWiseText = [] \n",
    "# Open the PDF file\n",
    "with open(file_path, \"rb\") as file:\n",
    "    reader = PyPDF2.PdfReader(file)\n",
    "    for page in reader.pages:\n",
    "        pageText = page.extract_text()\n",
    "        if pageText:\n",
    "            pageWiseText.append(pageText)\n",
    "\n",
    "print(f\"Extracted {len(pageWiseText)} pages\")"
   ]
  },
  {
   "cell_type": "code",
   "execution_count": null,
   "id": "31975c2c-5dc5-401f-8ee9-c46ba2854503",
   "metadata": {},
   "outputs": [],
   "source": [
    "import textwrap\n",
    "import os\n",
    "\n",
    "output_path = os.path.splitext(file_path)[0] + \".txt\"\n",
    "\n",
    "allText = \"\"\n",
    "for i, p in enumerate(pageWiseText):\n",
    "    wrapped_text = textwrap.fill(p, width=100)\n",
    "    allText += \"\\n ----------------------------------------------------------------- \\n\"\n",
    "    allText += wrapped_text\n",
    "    allText += \"\\n ----------------------------------------------------------------- \\n\"\n",
    "\n",
    "with open(output_path, \"w\", encoding=\"utf-8\") as f:\n",
    "    f.write(allText)\n",
    "\n",
    "print(f\"output to {output_path}\")"
   ]
  },
  {
   "cell_type": "code",
   "execution_count": 9,
   "id": "acf766f0-1731-486f-9bae-a2208332de1a",
   "metadata": {},
   "outputs": [
    {
     "ename": "NameError",
     "evalue": "name 'model' is not defined",
     "output_type": "error",
     "traceback": [
      "\u001b[31m---------------------------------------------------------------------------\u001b[39m",
      "\u001b[31mNameError\u001b[39m                                 Traceback (most recent call last)",
      "\u001b[36mCell\u001b[39m\u001b[36m \u001b[39m\u001b[32mIn[9]\u001b[39m\u001b[32m, line 1\u001b[39m\n\u001b[32m----> \u001b[39m\u001b[32m1\u001b[39m docs_embed = \u001b[43mmodel\u001b[49m.encode(pageWiseText, normalize_embeddings=\u001b[38;5;28;01mTrue\u001b[39;00m)\n",
      "\u001b[31mNameError\u001b[39m: name 'model' is not defined"
     ]
    }
   ],
   "source": [
    "docs_embed = model.encode(pageWiseText, normalize_embeddings=True)"
   ]
  },
  {
   "cell_type": "code",
   "execution_count": 21,
   "id": "dea81de3-9e25-4cd5-93ed-0cab99c59fa4",
   "metadata": {},
   "outputs": [
    {
     "data": {
      "text/plain": [
       "(19, 768)"
      ]
     },
     "execution_count": 21,
     "metadata": {},
     "output_type": "execute_result"
    }
   ],
   "source": [
    "docs_embed.shape"
   ]
  },
  {
   "cell_type": "code",
   "execution_count": 22,
   "id": "8cb27766-6875-402d-91b7-857c674fb5dc",
   "metadata": {
    "scrolled": true
   },
   "outputs": [
    {
     "data": {
      "text/plain": [
       "array([ 9.43502784e-03, -4.05939436e-03,  4.70433570e-02, -1.91588644e-02,\n",
       "       -1.05208799e-03, -2.19988022e-02,  4.46006581e-02,  4.33994345e-02,\n",
       "        5.02612218e-02, -7.20757106e-03, -4.79073776e-03,  8.74278322e-03,\n",
       "        3.30359414e-02,  1.80243272e-02, -2.41563078e-02,  1.47018824e-02,\n",
       "        1.42382551e-02, -3.51168662e-02, -2.57179365e-02, -2.99221165e-02,\n",
       "        6.12405548e-03,  8.12837388e-03, -2.69539114e-02,  3.50551307e-02,\n",
       "       -7.06916675e-03, -4.24130112e-02, -3.33318114e-02, -1.78539287e-02,\n",
       "       -2.74857953e-02, -3.14298854e-03,  2.51866132e-02, -1.22505175e-02,\n",
       "        9.56701487e-03,  1.21276341e-02, -2.77877282e-02, -5.69833629e-02,\n",
       "       -4.16358858e-02,  5.35411090e-02, -2.30257828e-02, -3.22550833e-02,\n",
       "       -6.75189793e-02,  1.19094644e-02, -2.85630710e-02, -1.64049231e-02,\n",
       "       -5.26259206e-02,  1.68623198e-02,  1.85449757e-02, -3.72159146e-02,\n",
       "        3.73747665e-03, -1.39373420e-02, -4.20705713e-02,  3.79180745e-03,\n",
       "       -1.04365591e-03, -6.00652955e-02, -5.70259662e-03, -5.18839294e-03,\n",
       "        5.56550641e-03,  1.60263572e-02, -2.13916190e-02, -1.33241788e-02,\n",
       "       -1.45473583e-02, -3.00012119e-02,  2.63363756e-02, -6.61680591e-04,\n",
       "       -4.33332101e-02, -3.97258624e-02, -3.34503427e-02,  2.73188278e-02,\n",
       "        2.24479623e-02, -2.73567322e-03, -7.55641330e-03, -2.34236214e-02,\n",
       "       -1.23576056e-02, -3.22444737e-02,  9.82389450e-02,  4.58050519e-03,\n",
       "        7.87572586e-04,  5.01259863e-02,  4.91083339e-02, -2.04822309e-02,\n",
       "        8.28967318e-02,  3.03803962e-02, -1.89679600e-02,  3.30496579e-02,\n",
       "       -1.24831945e-02,  5.39499931e-02,  1.48545075e-02, -1.95852737e-03,\n",
       "        3.64538766e-02,  1.87935587e-02,  2.95782331e-02,  5.11376709e-02,\n",
       "        3.21724340e-02,  1.35076670e-02, -2.92705446e-02,  1.47231221e-02,\n",
       "        6.46359250e-02, -6.09235466e-02,  1.45882359e-02, -2.58744322e-02,\n",
       "       -9.23533458e-03,  4.12574783e-02,  3.50533091e-02,  8.45356379e-03,\n",
       "       -1.00693479e-02,  1.25320097e-02,  3.32734012e-03,  7.14044198e-02,\n",
       "       -1.91878546e-02,  2.32962077e-03,  3.21157090e-02,  3.14567089e-02,\n",
       "       -2.35909168e-02, -1.50087429e-02,  4.67670429e-03, -2.57186666e-02,\n",
       "        3.22007351e-02,  1.96443740e-02,  4.17546891e-02, -2.12557707e-02,\n",
       "       -5.98925585e-03, -2.09969841e-02, -5.45635149e-02, -1.65449902e-02,\n",
       "        5.67060011e-03, -4.54825051e-02,  6.00266457e-02, -2.19634902e-02,\n",
       "       -2.99252849e-02, -6.20637648e-02,  1.45479487e-02,  2.69016419e-02,\n",
       "        2.23317146e-02,  2.36284565e-02,  1.69802569e-02,  4.03416008e-02,\n",
       "       -1.00356545e-02,  3.09591983e-02, -4.99973865e-03, -2.52520628e-02,\n",
       "       -8.85523763e-03,  4.29006517e-02,  4.59391903e-03,  3.49225178e-02,\n",
       "       -9.91553906e-03,  6.93089068e-02,  1.94239803e-03,  2.95830183e-02,\n",
       "        3.55791440e-03,  1.02730263e-02, -4.54856232e-02,  1.36002444e-03,\n",
       "       -2.90245563e-02, -2.25041341e-02, -1.06172571e-02, -3.13875563e-02,\n",
       "        3.31914313e-02,  4.72938344e-02, -4.82507534e-02, -5.05569391e-02,\n",
       "        7.80851534e-03, -2.34881919e-02, -2.35925689e-02,  5.61440513e-02,\n",
       "       -3.19878124e-02, -2.92330999e-02,  2.43785980e-04,  1.50854979e-03,\n",
       "        2.98528047e-03,  6.64810315e-02,  1.22605907e-02,  9.82842315e-03,\n",
       "       -9.41471010e-03,  4.73123277e-03, -1.86527148e-02,  2.35128105e-02,\n",
       "       -2.26372550e-03, -1.13945762e-02, -2.41223909e-02,  4.01781350e-02,\n",
       "       -3.78738679e-02, -1.89433880e-02, -3.17696594e-02, -5.93395829e-02,\n",
       "        4.93918406e-03, -4.61087003e-02, -2.07648948e-02,  2.62014512e-02,\n",
       "        1.23714106e-02,  8.36342387e-03,  3.99976410e-02, -3.61348130e-03,\n",
       "       -5.79848662e-02,  3.91678289e-02, -1.12872310e-02,  6.44381437e-03,\n",
       "        4.39603180e-02, -3.42868976e-02,  1.79990176e-02, -3.79511230e-02,\n",
       "        7.22697750e-03, -5.74030401e-03,  5.92703838e-03, -3.55907739e-03,\n",
       "        6.39345273e-02,  3.37985121e-02,  1.45946266e-02, -1.09675573e-02,\n",
       "        3.28071229e-02, -2.34194230e-02, -2.51421742e-02,  3.58104967e-02,\n",
       "       -4.00589630e-02, -2.20095576e-03,  3.44162062e-02,  4.45536897e-02,\n",
       "       -1.04056001e-02, -9.80439410e-03, -1.28897722e-03, -6.14714883e-02,\n",
       "       -5.56537248e-02, -6.81816367e-03, -8.01601261e-02, -1.96640287e-02,\n",
       "        1.49851497e-02, -6.57758908e-03, -2.30197199e-02, -1.54391872e-02,\n",
       "        2.79682130e-02,  7.87039939e-03,  3.98622360e-03, -2.11700741e-02,\n",
       "       -6.67229220e-02,  1.49397915e-02,  6.20413162e-02, -2.61958595e-02,\n",
       "        1.82921486e-03,  1.12716099e-02, -2.07035448e-02,  8.68801866e-03,\n",
       "        3.06501891e-02,  3.90648022e-02,  3.92773375e-02,  1.03745051e-01,\n",
       "        1.30298724e-02, -5.67640876e-04, -3.40954779e-04, -3.96779329e-02,\n",
       "       -1.95852127e-02, -1.21255601e-02, -3.81166898e-02,  2.12267730e-02,\n",
       "       -3.21559310e-02, -2.82534529e-02, -4.37500477e-02, -6.09957203e-02,\n",
       "        1.94766875e-02,  8.58860184e-03,  6.78555146e-02,  2.44566649e-02,\n",
       "       -1.61028728e-02, -1.73497591e-02, -6.13077730e-03,  2.83651464e-02,\n",
       "        2.15065461e-02, -7.68276118e-03,  6.38564453e-02, -3.54312435e-02,\n",
       "       -3.45759429e-02,  2.82693878e-02, -1.09466780e-02,  1.90344099e-02,\n",
       "       -1.72852986e-02, -2.92396918e-02, -3.42707708e-02, -7.98269454e-03,\n",
       "       -2.19103508e-03, -1.76007580e-02,  2.64642127e-02, -2.47851876e-03,\n",
       "        5.41640222e-02,  3.69151756e-02,  1.78248305e-02,  5.28429809e-04,\n",
       "        7.69263541e-04,  3.31012160e-02,  1.05042225e-02, -4.07370776e-02,\n",
       "       -2.35742480e-02,  5.63475350e-03,  5.86615615e-02, -2.52488572e-02,\n",
       "       -1.78903714e-02,  6.18675612e-02, -2.33439095e-02, -8.77867341e-02,\n",
       "       -2.81525520e-03, -3.26126209e-03, -1.73308011e-02, -1.94959026e-02,\n",
       "        1.36755370e-02,  5.65815996e-03, -5.27914753e-03, -8.37864005e-04,\n",
       "       -2.03486547e-04,  4.34385054e-03,  4.26833890e-02, -4.66755554e-02,\n",
       "        7.49983406e-03,  7.14503042e-03,  3.40150334e-02,  3.75357233e-02,\n",
       "        1.09952334e-02,  1.54029839e-02,  8.08267668e-02, -7.87148997e-02,\n",
       "       -8.19551945e-03, -2.13200431e-02, -2.16999389e-02,  4.93733794e-04,\n",
       "        1.77357234e-02, -2.25011539e-03, -3.33694108e-02,  3.27857882e-02,\n",
       "       -1.69245503e-03, -5.27919158e-02,  1.04224589e-02,  2.10822001e-03,\n",
       "       -4.13081516e-03,  2.39580050e-02,  4.91721146e-02, -4.01266944e-03,\n",
       "        2.86867321e-02, -2.54811384e-02,  4.69055772e-03, -6.31412817e-03,\n",
       "       -4.98899482e-02, -2.67970301e-02,  3.52880396e-02,  1.77149028e-02,\n",
       "       -5.49940951e-02,  6.23563677e-02, -1.11792777e-02,  8.90557654e-03,\n",
       "       -3.07967514e-02,  1.77971870e-02, -3.84370051e-02,  8.88502691e-04,\n",
       "        9.70818009e-03,  5.68893887e-02,  3.67017137e-03,  3.24676745e-02,\n",
       "       -8.86139274e-03, -2.67099240e-03, -4.78786454e-02, -1.22121731e-02,\n",
       "        1.23418728e-02, -4.65588905e-02, -8.51804391e-03, -4.91062030e-02,\n",
       "        8.06520786e-03,  3.42191048e-02, -3.31723094e-02,  2.78188731e-03,\n",
       "        1.76646858e-02, -1.73496567e-02,  1.92416478e-02, -1.12713277e-02,\n",
       "       -9.95309209e-04, -3.02896760e-02,  3.52114104e-02, -1.37334340e-04,\n",
       "       -1.87665168e-02, -1.37270438e-02, -2.78639467e-03,  1.62559971e-02,\n",
       "        6.09312579e-03, -2.01289728e-02,  1.50868818e-02, -1.76735166e-02,\n",
       "       -4.15614992e-02, -5.37219942e-02, -2.97449175e-02,  2.19407752e-02,\n",
       "       -2.65185572e-02,  3.31845023e-02, -2.70609185e-03,  1.07421232e-02,\n",
       "       -5.36305737e-03,  2.86797117e-02,  1.59862079e-02,  3.01822927e-02,\n",
       "        3.25301848e-02, -9.88585176e-04, -2.27684733e-02, -1.01643354e-02,\n",
       "       -1.30241702e-03, -6.78934949e-03, -5.90813346e-03,  1.01345154e-02,\n",
       "        1.86517733e-04, -2.24084239e-02, -3.68617033e-03, -4.55626892e-03,\n",
       "        3.96758392e-02, -1.23044970e-02, -1.89101994e-02,  6.23254804e-03,\n",
       "       -5.01256436e-02,  2.39132047e-02, -5.04684914e-03, -9.87402629e-03,\n",
       "       -1.47377290e-02, -5.25725707e-02,  9.41775739e-03,  3.67411338e-02,\n",
       "        6.40117899e-02,  7.13670859e-03,  1.94634870e-02, -1.58655234e-02,\n",
       "        1.41322771e-02, -2.25703679e-02, -2.96566598e-02, -2.53175888e-02,\n",
       "       -7.21828721e-04, -1.43276211e-02,  1.36910728e-03, -4.04108129e-03,\n",
       "       -5.74764125e-02, -7.21388031e-03,  3.32213268e-02,  2.63428651e-02,\n",
       "        4.02147435e-02, -1.93819329e-02, -4.83766751e-04, -3.00847944e-02,\n",
       "       -1.68469138e-02,  6.20415322e-02,  1.70444686e-03, -5.57020400e-03,\n",
       "       -4.68042493e-02,  1.80266816e-02,  3.41352858e-02, -3.89053635e-02,\n",
       "       -2.16266010e-02, -3.31011936e-02, -1.18689649e-02, -2.75826491e-02,\n",
       "       -1.94287067e-03, -5.35775628e-03, -1.51689276e-02, -1.02256648e-02,\n",
       "        1.76191553e-02, -7.66516849e-02,  1.56790239e-03,  5.32476194e-02,\n",
       "        5.97885018e-03, -9.46872775e-03, -4.98843193e-02,  3.60879465e-03,\n",
       "        3.36343743e-04,  2.72268560e-02, -7.11262086e-03, -2.92081591e-02,\n",
       "        5.70950881e-02, -2.61414591e-02, -3.83285433e-03, -1.52792968e-02,\n",
       "        1.54560776e-02, -2.43519247e-02,  3.06284539e-02,  8.51708371e-03,\n",
       "        4.42381054e-02, -3.51147875e-02,  1.08282482e-02, -4.97744593e-04,\n",
       "        4.05877493e-02, -1.91706903e-02,  6.20388426e-02, -7.33851176e-03,\n",
       "        1.74576100e-02,  2.53910813e-02,  1.19753443e-02, -9.37012117e-03,\n",
       "       -5.23732789e-02, -1.32248020e-02, -2.77669486e-02, -1.18111176e-02,\n",
       "        2.88081057e-02,  8.23263358e-03, -4.57728420e-05,  4.10883455e-03,\n",
       "        7.45582348e-03, -2.68683452e-02, -2.91075539e-02, -2.20956281e-02,\n",
       "        5.46995737e-03, -2.80777365e-02, -2.59545930e-02, -2.84068901e-02,\n",
       "       -9.51022375e-03, -9.27147083e-03, -3.20694931e-02, -6.69874717e-03,\n",
       "       -2.02614088e-02, -7.73934694e-03,  1.77698266e-02,  7.13508129e-02,\n",
       "        8.13927222e-03,  3.28963734e-02,  3.17888963e-03, -3.41968462e-02,\n",
       "       -2.19414700e-02,  4.23458777e-02, -6.33277092e-03,  1.68255344e-03,\n",
       "       -9.53501016e-02, -8.82863626e-02, -1.34853274e-02, -4.94280718e-02,\n",
       "       -3.50334533e-02,  1.90061852e-02,  4.05461853e-03, -2.51920079e-03,\n",
       "       -3.59628089e-02, -2.18195003e-03, -2.66308635e-02, -3.49933770e-03,\n",
       "       -4.26532584e-04, -7.37210363e-03, -2.57815775e-02, -1.15768295e-02,\n",
       "        4.45134342e-02, -6.54524425e-03,  4.58952934e-02,  1.89979840e-02,\n",
       "        2.83587873e-02, -3.12665440e-02, -1.16084442e-02,  1.67301260e-02,\n",
       "       -3.40385735e-02, -1.54813973e-03,  2.46612951e-02,  1.38324853e-02,\n",
       "        3.40690762e-02,  1.16778826e-02,  4.76016179e-02, -7.66924256e-03,\n",
       "        8.34420230e-03,  7.93396402e-03, -1.07543960e-01,  2.89572552e-02,\n",
       "       -7.49608427e-02, -3.37553537e-03,  3.47813778e-02, -6.89896345e-02,\n",
       "       -4.76319969e-01, -1.55472793e-02, -8.38783383e-03,  3.41774784e-02,\n",
       "        1.80644020e-02, -1.46659045e-02, -2.11833697e-02, -1.89411268e-02,\n",
       "       -7.66319936e-05, -3.51454392e-02, -2.61332989e-02, -1.69825722e-02,\n",
       "       -1.71132702e-02, -1.53886117e-02, -4.94993525e-03,  9.62031598e-04,\n",
       "       -1.23447855e-04,  2.47995444e-02, -2.47144885e-02,  2.85712071e-03,\n",
       "       -5.88191338e-02, -2.82802898e-02, -3.23515870e-02, -9.32986941e-03,\n",
       "       -6.98021566e-03,  2.96852179e-02, -1.53823085e-02,  3.57328877e-02,\n",
       "       -1.67916603e-02, -2.03514975e-02,  3.09422314e-02, -3.89323495e-02,\n",
       "       -1.74940918e-02,  3.19129974e-02, -2.17623729e-03,  5.46643883e-02,\n",
       "        7.34283105e-02,  4.41450961e-02,  1.19083365e-02, -2.21717581e-02,\n",
       "        2.88023177e-04, -6.55549439e-03,  1.00920778e-02,  7.20504066e-03,\n",
       "        5.23665035e-03,  5.87694673e-03, -9.70072672e-03, -4.32441458e-02,\n",
       "        1.41320582e-02, -2.56851502e-02,  1.09626977e-02, -7.09542446e-03,\n",
       "       -4.02041152e-03,  1.73712056e-02,  7.18424981e-03,  1.75729562e-02,\n",
       "        8.68149661e-03,  8.11682269e-03,  7.04070134e-03,  8.62469301e-02,\n",
       "       -5.12178317e-02,  5.40012084e-02,  6.34651864e-03, -5.31376861e-02,\n",
       "       -1.17331639e-01,  3.40981744e-02,  2.16758773e-02, -2.90621500e-02,\n",
       "        3.79019119e-02, -1.85476989e-02,  2.38032211e-02, -7.18139708e-02,\n",
       "        3.50811556e-02, -2.80249324e-02, -1.29042016e-02, -1.78310496e-03,\n",
       "       -4.45953086e-02, -1.24154221e-02, -1.24726063e-02,  1.77421868e-02,\n",
       "        1.19877793e-02, -2.00810619e-02, -1.51604032e-02, -1.34345498e-02,\n",
       "       -1.21327089e-02, -4.23258767e-02, -2.61435620e-02, -4.66374941e-02,\n",
       "        7.49256387e-02,  1.71870627e-02, -2.40714774e-02, -2.96006110e-02,\n",
       "        2.05478668e-02, -2.09549330e-02,  2.28505097e-02,  4.72537521e-03,\n",
       "        2.24857181e-02,  1.98804922e-02,  1.35582493e-04, -7.86718726e-03,\n",
       "       -7.60042369e-02, -2.61474252e-02, -2.78873686e-02,  2.14783866e-02,\n",
       "       -6.26652222e-03, -8.33751820e-03, -7.24119088e-03,  3.04656457e-02,\n",
       "        5.22877909e-02, -4.00037244e-02, -2.09225304e-02,  2.14721132e-02,\n",
       "       -2.90623307e-02, -3.56541038e-03, -1.19238729e-02,  3.44140604e-02,\n",
       "        4.97084460e-04,  2.84516923e-02, -4.65308279e-02, -2.95237880e-02,\n",
       "        4.01137061e-02, -3.67454166e-04, -4.80770096e-02,  6.60862699e-02,\n",
       "        2.50901971e-02, -1.36974705e-02,  3.27105038e-02,  2.75454484e-02,\n",
       "        6.64420798e-02, -1.29099078e-02,  2.94614080e-02, -1.32232429e-02,\n",
       "        2.80737411e-02,  9.86630395e-02, -8.74501653e-03,  7.58360000e-03,\n",
       "       -4.63271327e-02,  7.88269937e-02, -2.36408021e-02, -2.76669394e-02,\n",
       "       -4.25019162e-03,  1.40125155e-02, -2.78126728e-02,  3.97405587e-03,\n",
       "       -1.51255075e-02, -5.23831043e-03, -2.98136957e-02,  2.57250741e-02,\n",
       "       -6.62815524e-03, -3.35197523e-02, -5.69688603e-02,  8.67637619e-02,\n",
       "        7.69223720e-02, -4.95560355e-02, -1.19449254e-02, -1.32916570e-02,\n",
       "       -7.97793362e-03,  9.17327404e-03, -2.37609763e-02,  5.52396849e-03,\n",
       "       -2.97860932e-02, -5.78350807e-03,  7.85546675e-02, -1.63132645e-04,\n",
       "       -9.45009943e-03,  6.86985208e-03,  1.74664240e-02,  4.36344668e-02,\n",
       "       -3.07987304e-03, -4.25601043e-02,  1.87732540e-02,  1.51464762e-02,\n",
       "       -1.56222293e-02,  9.46923625e-03, -3.38768400e-02, -4.52961447e-03,\n",
       "       -6.83749318e-02,  3.11193783e-02,  3.85281397e-03, -1.90769527e-02,\n",
       "       -6.70841485e-02, -3.54453502e-03,  1.12644443e-02,  8.61213543e-03,\n",
       "       -6.83987588e-02,  2.49581803e-02, -4.43034209e-02, -1.25684775e-02,\n",
       "       -4.05727997e-02,  4.17550355e-02,  2.47562695e-02,  4.25188104e-03,\n",
       "       -5.76798841e-02,  5.60562871e-02, -2.98987310e-02,  2.75926404e-02,\n",
       "       -4.34030499e-03, -3.18751410e-02, -4.25102040e-02,  2.45725922e-02,\n",
       "       -4.74009896e-03, -8.85571614e-02, -4.90122475e-02,  1.37002831e-02,\n",
       "       -3.81915569e-02, -6.07712530e-02,  4.31010872e-02, -1.07072676e-02,\n",
       "        2.18426473e-02, -4.48515872e-03, -9.64554679e-03, -1.96702909e-02],\n",
       "      dtype=float32)"
      ]
     },
     "execution_count": 22,
     "metadata": {},
     "output_type": "execute_result"
    }
   ],
   "source": [
    "docs_embed[0]"
   ]
  },
  {
   "cell_type": "code",
   "execution_count": 23,
   "id": "2f5332d0-a9d5-41f0-98ea-efdc44e53871",
   "metadata": {},
   "outputs": [],
   "source": [
    "query = \"What was Studio Ghibli's first film?\"\n",
    "query_embed = model.encode(query, normalize_embeddings=True)"
   ]
  },
  {
   "cell_type": "code",
   "execution_count": 24,
   "id": "2676665d-304f-4b75-ad39-2e4447550f63",
   "metadata": {},
   "outputs": [
    {
     "data": {
      "text/plain": [
       "(768,)"
      ]
     },
     "execution_count": 24,
     "metadata": {},
     "output_type": "execute_result"
    }
   ],
   "source": [
    "query_embed.shape"
   ]
  },
  {
   "cell_type": "code",
   "execution_count": 25,
   "id": "bd193ab0-74f4-4d3b-bac2-bf53d63242db",
   "metadata": {},
   "outputs": [],
   "source": [
    "import numpy as np\n",
    "similarities = np.dot(docs_embed, query_embed.T)"
   ]
  },
  {
   "cell_type": "code",
   "execution_count": 26,
   "id": "08216651-6ddf-4e65-bfc0-a8d4220914f2",
   "metadata": {},
   "outputs": [
    {
     "data": {
      "text/plain": [
       "(19,)"
      ]
     },
     "execution_count": 26,
     "metadata": {},
     "output_type": "execute_result"
    }
   ],
   "source": [
    "similarities.shape"
   ]
  },
  {
   "cell_type": "code",
   "execution_count": 27,
   "id": "b01e7f33-6f53-4fa3-90cf-421365b0955b",
   "metadata": {},
   "outputs": [
    {
     "data": {
      "text/plain": [
       "array([0.5527753 , 0.45591557, 0.510938  , 0.50683564, 0.48231435,\n",
       "       0.6385466 , 0.5517907 , 0.6293821 , 0.55376995, 0.4961574 ,\n",
       "       0.46270683, 0.41976058, 0.4512602 , 0.40898627, 0.45950574,\n",
       "       0.4371642 , 0.43962166, 0.19419606, 0.4650129 ], dtype=float32)"
      ]
     },
     "execution_count": 27,
     "metadata": {},
     "output_type": "execute_result"
    }
   ],
   "source": [
    "similarities"
   ]
  },
  {
   "cell_type": "code",
   "execution_count": 28,
   "id": "a261d448-33fc-4a35-b689-4e292a351e34",
   "metadata": {},
   "outputs": [],
   "source": [
    "top_3_idx = np.argsort(similarities, axis=0)[-3:][::-1].tolist()"
   ]
  },
  {
   "cell_type": "code",
   "execution_count": 29,
   "id": "fdd92752-e751-4c56-8b02-d9412e0c3eb9",
   "metadata": {},
   "outputs": [
    {
     "data": {
      "text/plain": [
       "[5, 7, 8]"
      ]
     },
     "execution_count": 29,
     "metadata": {},
     "output_type": "execute_result"
    }
   ],
   "source": [
    "top_3_idx"
   ]
  },
  {
   "cell_type": "code",
   "execution_count": 30,
   "id": "6e6483e2-106e-4061-9972-b9d8265124e3",
   "metadata": {},
   "outputs": [],
   "source": [
    "most_similar_documents = [paragraphs[idx] for idx in top_3_idx]"
   ]
  },
  {
   "cell_type": "code",
   "execution_count": 32,
   "id": "b7c70a2d-9654-44c0-9e18-b82d30500699",
   "metadata": {
    "scrolled": true
   },
   "outputs": [
    {
     "name": "stdout",
     "output_type": "stream",
     "text": [
      "-----------------------------------------------------------------\n",
      "Studio Ghibli Early films (1985–1995) Following the success of Nausicaä of the Valley of the Wind,\n",
      "Miyazaki and Takahata founded the animation production company Studio Ghibli on June 15, 1985, as a\n",
      "subsidiary of Tokuma Shoten, with offices in Kichijōji designed by Miyazaki. The studio's name had\n",
      "been registered a year earlier; Miyazaki named it after the nickname of the Caproni Ca.309 aircraft,\n",
      "meaning \"a hot wind that blows in the desert\" in Italian. Suzuki worked for Studio Ghibli as\n",
      "producer, joining full-time in 1989, while Topcraft's Tōru Hara became production manager; Suzuki's\n",
      "role in the creation of the studio and its films has led him to being occasionally named a co-\n",
      "founder, and Hara is often viewed as influential to the company's success. Yasuyoshi Tokuma, the\n",
      "founder of Tokuma Shoten, was also closely related to the company's creation, having provided\n",
      "financial backing. Topcraft had been considered as a partner to produce Miyazaki's next film, but\n",
      "the company went bankrupt in 1985. Several staff members subsequently hired at Studio Ghibli—up to\n",
      "70 full-time and 200 part-time employees in 1985—had previously worked with Miyazaki at different\n",
      "studios, such as Telecom, Topcraft, and Toei Doga, and others like Madhouse, Inc. and Oh!\n",
      "Production. In 1984, Miyazaki traveled to Wales, drawing the mining villages and communities of\n",
      "Rhondda; he witnessed the miners' strike and admired the miners' dedication to their work and\n",
      "community. He was angered by the \"military superpowers\" of the Roman Empire who conquered the Celts\n",
      "and felt this anguish, alongside the miners' strike, was perceptible in Welsh communities. He\n",
      "returned in May 1985 to research his next film, Laputa: Castle in the Sky, the first by Studio\n",
      "Ghibli. Its tight production schedule forced Miyazaki to work all day, including before and after\n",
      "normal working hours, and he wrote lyrics for its end theme. Miyazaki used the floating island of\n",
      "Laputa from Gulliver's Travels in the film. Laputa was released on August 2, 1986, by the Toei\n",
      "Company. It sold around 775,000 tickets, making a modest financial return, though Miyazaki and\n",
      "Suzuki expressed their disappointment with its box office figures of approximately US$2.5 million.\n",
      "After the success of Nausicaä, Miyazaki visited Yanagawa and considered imitating it in an animated\n",
      "film, fascinated by its canal system; instead, Takahata directed a live-action documentary about the\n",
      "region, The Story of Yanagawa's Canals (1987). Miyazaki produced and financed the film, and provided\n",
      "several animated sequences. Its creation spanned four years, and Miyazaki considered it his social\n",
      "responsibility—to both Japanese society and filmmaking—in seeing it produced. Laputa was created\n",
      "partly to fund production of the documentary, for which Takahata had depleted his funds. In June\n",
      "1985, Nausicaä of the Valley of the Wind was released in the United States as Warriors of the Wind,\n",
      "with significant cuts; almost 30 minutes of dialogue and character development were removed, erasing\n",
      "parts of its plot and themes. Miyazaki and Takahata subsequently refused to consider Western\n",
      "releases of their films for the following decade. Miyazaki's next film, My Neighbor Totoro,\n",
      "originated in ideas he had as a child; he felt \"Totoro is where my consciousness began\". An attempt\n",
      "to pitch My Neighbor Totoro to Tokuma Shoten in the early 1980s had been unsuccessful, and Miyazaki\n",
      "faced difficulty in attempting to pitch it again in 1987. Suzuki proposed that Totoro be released as\n",
      "a double bill alongside Takahata's Grave of the Fireflies; as the latter, based on the 1967 short\n",
      "story by Akiyuki Nosaka, had historical value, Suzuki predicted school students would be taken to\n",
      "watch both. Totoro features the theme of the relationship between the environment and humanity,\n",
      "showing that harmony is the result of respecting the environment. The film also references\n",
      "Miyazaki's mother; the child protagonists' mother is bedridden. As with Laputa, Miyazaki wrote\n",
      "lyrics for Totoro's end theme. Miyazaki struggled with the film's script until he read a Mainichi\n",
      "Graph story about Japan forty years prior, opting to set the film in the country before Tokyo's\n",
      "expansion and the advent of television. Miyazaki has subsequently donated money and artwork to fund\n",
      "preservation of the forested land in Saitama Prefecture, in which the film is set. Production of My\n",
      "Neighbor Totoro began in April 1987 and took exactly a year; it was released on April 16, 1988.\n",
      "While the film received critical acclaim, it was only moderately successful at the box office.\n",
      "Studio Ghibli approved merchandising rights in 1990, which led to major commercial success;\n",
      "merchandise profits alone were able to sustain the studio for years. The film was labeled a cult\n",
      "classic, eventually gaining success in the United States after its release in 1993, where its home\n",
      "video release sold almost 500,000 copies. Akira Kurosawa said the film moved him, naming it among\n",
      "his hundred favorite films—one of few Japanese films to be named. An asteroid discovered by Takao\n",
      "Kobayashi in December 1994 was named after the film: 10160 Totoro. In 1987, Studio Ghibli acquired\n",
      "the rights to create a film adaptation of Eiko Kadono's novel Kiki's Delivery Service. Miyazaki's\n",
      "work on My Neighbor Totoro prevented him from directing the adaptation; he acted as producer, while\n",
      "Sunao Katabuchi was chosen as director and Nobuyuki Isshiki as script writer. Miyazaki's\n",
      "dissatisfaction of Isshiki's first draft led him to make changes to the project, ultimately taking\n",
      "the role of director. Kadono expressed her dissatisfaction with the differences between the book and\n",
      "screenplay, but Miyazaki and Takahata convinced her to let production continue. The film was\n",
      "originally intended to be a 60-minute special, but expanded into a feature film after Miyazaki\n",
      "completed the storyboards and screenplay. Miyazaki felt the struggles of the protagonist, Kiki,\n",
      "reflected the feelings of young girls in Japan yearning to live independently in cities, while her\n",
      "talents reflected those of real girls, despite her magical powers. In preparation for production,\n",
      "Miyazaki and other senior staff members traveled to Sweden, where they captured eighty rolls of film\n",
      "in Stockholm and Visby, the former being the primary inspiration behind the film's city. Kiki's\n",
      "Delivery Service premiered on July 29, 1989; it was critically successful, winning the Anime Grand\n",
      "Prix. With more than 2.6 million tickets sold, it earned ¥2.15 billion at the box office and was the\n",
      "highest-grossing film in Japan in 1989. Miyazaki and Studio Ghibli personally approved the\n",
      "subsequent English translations. From March to May 1989, Miyazaki's manga Hikōtei Jidai was\n",
      "published in the magazine Model Graphix, based on an earlier film idea he had assigned to a younger\n",
      "director in 1988 that fell through due to creative differences. Miyazaki began production on a\n",
      "45-minute in-flight film for Japan Airlines based on the manga; Suzuki extended it into a feature-\n",
      "length film, titled Porco Rosso, as expectations and budget grew. Miyazaki began work on the film\n",
      "with little assistance, as its production overlapped with Takahata's Only Yesterday (1991), which\n",
      "Miyazaki co-produced. The outbreak of the Yugoslav Wars in 1991 affected Miyazaki, prompting a more\n",
      "sombre tone for Porco Rosso; the Croatian War of Independence moved the film's setting from\n",
      "Dubrovnik to the Adriatic Sea. Miyazaki later referred to the film as \"foolish\", as its mature tones\n",
      "were unsuitable for children, noting he had made it for his \"own pleasure\" due to his love of\n",
      "planes. Except for the Curtiss R3C-2, all planes in Porco Rosso are original creations from\n",
      "Miyazaki's imagination, based on his childhood memories. The film also pays homage to the work of\n",
      "Fleischer Studios and Winsor McCay, which were influential to Japanese animation in the 1940s. The\n",
      "film featured anti-war themes, which Miyazaki would later revisit. The protagonist's name, Marco\n",
      "Pagot, is the same as an Italian animator with whom Miyazaki had worked on Sherlock Hound. Some\n",
      "female staff at Studio Ghibli considered the film's Piccolo factory—led by a man and staffed by\n",
      "women—an intentional mirroring of Studio Ghibli's staff, of whom many are women; some viewed it as\n",
      "Miyazaki's respect for their work ethic, though others felt it implied women were easier to exploit.\n",
      "Japan Airlines remained a major investor in the film, resulting in its initial premiere as an in-\n",
      "flight film, prior to its theatrical release on July 18, 1992. It was Miyazaki's first film not to\n",
      "top Animage's yearly reader poll, which has been attributed to its mature focus. The film was\n",
      "commercially successful, becoming the highest-grossing film of the year in Japan; it remained one of\n",
      "the highest-grossing films for several years. During production of Porco Rosso, Miyazaki spearheaded\n",
      "work on Studio Ghibli's new studio in Koganei, Tokyo, designing the blueprints, selecting materials,\n",
      "and working with builders. The studio opened in August 1992, and the staff moved in shortly after\n",
      "Porco Rosso's release. Around this time, Miyazaki started work on the final volumes of the manga\n",
      "Nausicaä of the Valley of the Wind, which he created in-house at Studio Ghibli. In November, two\n",
      "television spots directed by Miyazaki were broadcast by Nippon Television Network (NTV): Sora Iro no\n",
      "Tane, a 90-second spot adapted from the illustrated story Sora Iro no Tane by Rieko Nakagawa and\n",
      "Yuriko Omura; and Nandarou, a series of four five-second advertisements featuring an undefinable\n",
      "creature. Miyazaki assisted with the concept of Takahata's Pom Poko (1994), and designed the\n",
      "storyboards and wrote the screenplay for Kondō's Whisper of the Heart (1995), being particularly\n",
      "involved in the latter's fantasy sequences. Critics and fans began to see Kondō as \"the heir-\n",
      "apparent\" to Studio Ghibli.\n",
      "-----------------------------------------------------------------\n",
      "-----------------------------------------------------------------\n",
      "In 1997, Miyazaki contributed to Visionaire, an arthouse magazine. Tokuma Shoten merged with Studio\n",
      "Ghibli in June 1997. Within walking distance of Studio Ghibli, Miyazaki designed his private office,\n",
      "which he named Buta-ya (meaning \"pig house\"). It was intended as his retirement office for personal\n",
      "projects; he held his farewell party there in January 1998, having left Studio Ghibli on January 14\n",
      "to be succeeded by Kondō. However, Kondō's death on January 21 impacted Miyazaki, and within days it\n",
      "was announced he would return to Studio Ghibli to direct a new film. A manga by Miyazaki, Doromamire\n",
      "no Tora, was published in Model Graphix in December 1998, based on a book by German tank commander\n",
      "Otto Carius. Miyazaki officially returned to Studio Ghibli as its leader on January 16, 1999, taking\n",
      "an active role in employee organization. From 1998, Miyazaki worked on designs for the Ghibli\n",
      "Museum, dedicated to showcasing the studio's works, including several exclusive short films, for\n",
      "which production began in July 1999. Construction for the museum began in March 2000, and it\n",
      "officially opened on October 1, 2001, featuring the short film Kujiratori. Miyazaki served as its\n",
      "executive director. In 1999, a Japanese theme park engaged Studio Ghibli to create a 20-minute short\n",
      "film about cats; Miyazaki agreed on the condition that it featured returning characters from Whisper\n",
      "of the Heart. Aoi Hiiragi wrote a manga based on the concept, titled Baron: The Cat Returns. When\n",
      "the theme park withdrew, Miyazaki expanded the idea into a 45-minute film and, wanting to foster new\n",
      "talent at the studio, assigned it to first-time director Hiroyuki Morita. The film was released as\n",
      "The Cat Returns in 2002. Miyazaki's next film was conceived while on vacation at a mountain cabin\n",
      "with his family and five young girls who were family friends. Miyazaki realized he had not created a\n",
      "film for 10-year-old girls and set out to do so. He read shōjō manga magazines like Nakayoshi and\n",
      "Ribon for inspiration but felt they only offered subjects on \"crushes and romance\", which is not\n",
      "what the girls \"held dear in their hearts\"; he decided to produce the film about a female heroine\n",
      "whom they could look up to, based on two of the girls he had met. Production of the film, titled\n",
      "Spirited Away, commenced in 2000 on a budget of ¥1.9 billion (US$15 million). As with Princess\n",
      "Mononoke, the staff experimented with computer animation, but kept the technology at a level to\n",
      "enhance the story, not to \"steal the show\". Spirited Away deals with symbols of human greed,\n",
      "symbolizing the 1980s Japanese asset price bubble, and a liminal journey through the realm of\n",
      "spirits. The film was released on July 20, 2001; it received critical acclaim, winning the Japan\n",
      "Academy Film Prize for Picture of the Year. The film was commercially successful, selling a record-\n",
      "breaking 21.4 million tickets and earning ¥30.4 billion (US$289.1 million) at the box office. It\n",
      "became the highest-grossing film in Japan, a record it maintained for almost 20 years, and was the\n",
      "first Japanese film to earn US$200 million internationally, prior to its American release. Kirk Wise\n",
      "directed the English-language version of Spirited Away ; Pixar's John Lasseter wanted Miyazaki to\n",
      "travel to the United States to work on the translated version, but Miyazaki trusted Lasseter to\n",
      "handle it. Spirited Away's hopping lamp character is seen as an homage to Lasseter's character Luxo\n",
      "Jr. The film's successful American release through Buena Vista cemented Studio Ghibli's reputation\n",
      "in Western regions and established Miyazaki's popularity in North America; it was the first animated\n",
      "film to win the Golden Bear at the Berlin International Film Festival (tied with Bloody Sunday) and\n",
      "the first Japanese film to win the Best Animated Feature at the Academy Awards, alongside several\n",
      "other accolades. It has been frequently ranked among the greatest films of the 21st century. Upon\n",
      "completing the film, like with Princess Mononoke, Miyazaki declared it his last. He traveled to\n",
      "France in December 2001 and the United States in September 2002 to promote the film. Following the\n",
      "death of Tokuma in September 2000, Miyazaki served as the head of his funeral committee. Miyazaki\n",
      "wrote and directed more short films for the Ghibli Museum: Koro's Big Day Out, which screened from\n",
      "January 2002, and Mei and the Kittenbus, which screened from October. One of the short films,\n",
      "Imaginary Flying Machines, was later screened as in-flight entertainment by Japan Airlines alongside\n",
      "Porco Rosso.\n",
      "-----------------------------------------------------------------\n",
      "-----------------------------------------------------------------\n",
      "Later films (2001–2011) Studio Ghibli announced the production of Howl's Moving Castle in September\n",
      "2001, based on the novel by Diana Wynne Jones, which Miyazaki had read in 1999. Toei Animation's\n",
      "Mamoru Hosoda was originally selected to direct the film, but disagreements between Hosoda and\n",
      "Studio Ghibli executives led to the project's abandonment in 2002. After six months, Studio Ghibli\n",
      "resurrected the project. Miyazaki was inspired to direct the film, struck by the image of a castle\n",
      "moving around the countryside; the novel does not explain how the castle moved, which led to\n",
      "Miyazaki's designs. Some computer animation was used to animate the castle's movements, though\n",
      "Miyazaki dictated it consist of no more than 10 percent of the film. Miyazaki traveled to Colmar and\n",
      "Riquewihr in Alsace, France, to study the architecture and the surroundings for the film's setting,\n",
      "while additional inspiration came from the concepts of future technology in Albert Robida's work.\n",
      "The war featured in the film was thematically influenced by the 2003 invasion and subsequent war in\n",
      "Iraq, the events of which enraged Miyazaki. Howl's Moving Castle was released on November 20, 2004,\n",
      "and received widespread critical acclaim. The film received the Golden Osella for Technical\n",
      "Excellence at the 61st Venice International Film Festival, and was nominated for the Academy Award\n",
      "for Best Animated Feature. In Japan, the film sold more than 1.1 million tickets within two days and\n",
      "grossed a record US$14.5 million in its first week. It became Japan's third-highest-grossing film,\n",
      "and remains among the top rankings with a worldwide gross of over ¥19.3 billion. Miyazaki received\n",
      "the honorary Golden Lion for Lifetime Achievement award at the 62nd Venice International Film\n",
      "Festival in 2005. He visited the United States in June 2005 to promote the film. In March 2005,\n",
      "Studio Ghibli split from Tokuma Shoten, and Miyazaki became corporate director. After Howl's Moving\n",
      "Castle, Miyazaki created some short films for the Ghibli Museum, for which he returned solely to\n",
      "traditional animation techniques; all three began screening in January 2006. Studio Ghibli obtained\n",
      "the rights to produce an adaptation of Ursula K. Le Guin's Earthsea novels in 2003; Miyazaki had\n",
      "contacted her in the 1980s expressing interest but she declined, unaware of his work. Upon watching\n",
      "My Neighbor Totoro several years later, she expressed approval to the concept and met with Suzuki in\n",
      "August 2005, who wanted Miyazaki's son Goro to direct the film, as Miyazaki had wished to retire.\n",
      "Disappointed that Miyazaki was not directing but under the impression he would supervise his son's\n",
      "work, Le Guin approved of the film's production. Miyazaki later publicly opposed and criticized\n",
      "Goro's appointment as director. The film's designs were partly inspired by Miyazaki's manga The\n",
      "Journey of Shuna. During a screening of the film, Miyazaki commented, \"You shouldn't make a picture\n",
      "based on your emotions\". He later wrote a message for his son: \"It was made honestly, so it was\n",
      "good\". In February 2006, Miyazaki traveled to the United Kingdom to research A Trip to Tynemouth\n",
      "(based on Robert Westall's \"Blackham's Wimpy\"), for which he designed the cover, created a short\n",
      "manga, and worked as editor; it was released in October. Miyazaki's next film, Ponyo, began\n",
      "production in May 2006. It was initially inspired by \"The Little Mermaid\" by Hans Christian\n",
      "Andersen, though began to take its own form as production continued. Miyazaki aimed for the film to\n",
      "celebrate the innocence and cheerfulness of a child's universe. He was intimately involved with the\n",
      "artwork, preferring to draw the sea and waves himself, as he enjoyed experimenting. Two short\n",
      "films—Looking for a Home and Water Spider Monmon—were made for the Ghibli Museum shortly before\n",
      "Ponyo entered production as animation experiments for sea life. Ponyo features 170,000 frames—a\n",
      "record for Miyazaki. Its seaside village was inspired by Tomonoura, a town in Setonaikai National\n",
      "Park, where Miyazaki stayed in 2004. The main character, Sōsuke, is based on Gorō. Following its\n",
      "release on July 19, 2008, Ponyo was critically acclaimed, receiving Animation of the Year at the\n",
      "32nd Japan Academy Film Prize. The film was also a commercial success, earning ¥10 billion (US$93.2\n",
      "million) in its first month and ¥15.5 billion by the end of 2008, placing it among the highest-\n",
      "grossing films in Japan; its box office earnings outpaced its ¥3.4 billion budget fivefold. In April\n",
      "2008, Miyazaki founded Home of the Three Bears, a preschool for the children of Studio Ghibli\n",
      "employees for which he had worked on early architectural plans. In early 2009, Miyazaki began\n",
      "writing a manga called Kaze Tachinu (風立ちぬ, The Wind Rises), telling the story of Mitsubishi A6M Zero\n",
      "fighter designer Jiro Horikoshi. The manga was first published in two issues of the Model Graphix\n",
      "magazine, published on February 25 and March 25, 2009. For the Ghibli Museum, Miyazaki wrote the\n",
      "short film A Sumo Wrestler's Tail, directed by Akihiko Yamashita, and wrote and directed Mr. Dough\n",
      "and the Egg Princess; both started screening in 2010. From July 2008, Miyazaki planned and produced\n",
      "the film Arrietty (2010), for which he co-wrote the screenplay with Keiko Niwa, based on the 1952\n",
      "novel The Borrowers; it was the directorial debut of Hiromasa Yonebayashi, who had started as an\n",
      "inbetween artist on Princess Mononoke. Miyazaki and Niwa wrote the screenplay for From Up on Poppy\n",
      "Hill (2011), based the 1979–1980 manga Coquelicot-zaka kara; the film, directed by Goro Miyazaki,\n",
      "was the highest-grossing Japanese film in the country in 2011 and won Animation of the Year at the\n",
      "Japan Academy Awards.\n",
      "-----------------------------------------------------------------\n"
     ]
    }
   ],
   "source": [
    "CONTEXT = \"\"\n",
    "for i, p in enumerate(most_similar_documents):\n",
    "  wrapped_text = textwrap.fill(p, width=100)\n",
    "\n",
    "  print(\"-----------------------------------------------------------------\")\n",
    "  print(wrapped_text)\n",
    "  print(\"-----------------------------------------------------------------\")\n",
    "  CONTEXT += wrapped_text + \"\\n\\n\"                   "
   ]
  },
  {
   "cell_type": "code",
   "execution_count": 33,
   "id": "75e07236-7a7b-4953-9188-d3f685b4ec73",
   "metadata": {},
   "outputs": [],
   "source": [
    "query = \"What was Studio Ghibli's first film?\""
   ]
  },
  {
   "cell_type": "code",
   "execution_count": 34,
   "id": "f9ead7b2-ee0f-4392-82d6-e812b8de6c26",
   "metadata": {},
   "outputs": [],
   "source": [
    "prompt = f\"\"\"\n",
    "use the following CONTEXT to answer the QUESTION at the end.\n",
    "If you don't know the answer, just say that you don't know, don't try to make up an answer.\n",
    "\n",
    "CONTEXT: {CONTEXT}\n",
    "QUESTION: {query}\n",
    "\n",
    "\"\"\""
   ]
  },
  {
   "cell_type": "code",
   "execution_count": 35,
   "id": "4096f60a-f91a-4489-923f-5db8bf6bf457",
   "metadata": {},
   "outputs": [
    {
     "name": "stdout",
     "output_type": "stream",
     "text": [
      "Requirement already satisfied: python-dotenv in c:\\users\\panka\\appdata\\local\\programs\\python\\python313\\lib\\site-packages (1.1.1)\n"
     ]
    }
   ],
   "source": [
    "!pip install -q openai\n",
    "!pip install python-dotenv"
   ]
  },
  {
   "cell_type": "code",
   "execution_count": 38,
   "id": "12a8478e-b881-4267-9ecc-9fdf001e5c42",
   "metadata": {},
   "outputs": [
    {
     "data": {
      "text/plain": [
       "True"
      ]
     },
     "execution_count": 38,
     "metadata": {},
     "output_type": "execute_result"
    }
   ],
   "source": [
    "import openai\n",
    "from dotenv import load_dotenv\n",
    "import os\n",
    "\n",
    "load_dotenv()"
   ]
  },
  {
   "cell_type": "code",
   "execution_count": 39,
   "id": "0c3d78a6-b806-4abf-9e44-609c913653c3",
   "metadata": {},
   "outputs": [],
   "source": [
    "from openai import OpenAI\n",
    "\n",
    "client = OpenAI(api_key=os.getenv(\"OPENAI_API_KEY\"))"
   ]
  },
  {
   "cell_type": "code",
   "execution_count": 45,
   "id": "38abc2c9-d803-41e3-8cdb-fbbee7697aac",
   "metadata": {},
   "outputs": [],
   "source": [
    "response = client.chat.completions.create(\n",
    "  model=\"gpt-4o\",\n",
    "  messages=[\n",
    "    {\"role\": \"user\", \"content\": prompt},\n",
    "  ]\n",
    ")"
   ]
  },
  {
   "cell_type": "code",
   "execution_count": 46,
   "id": "4a8b8e87-7000-454c-ba9c-780400a3522e",
   "metadata": {},
   "outputs": [
    {
     "name": "stdout",
     "output_type": "stream",
     "text": [
      "Studio Ghibli's first film was \"Laputa: Castle in the Sky,\" which was released on August 2, 1986.\n"
     ]
    }
   ],
   "source": [
    "print(response.choices[0].message.content)"
   ]
  },
  {
   "cell_type": "code",
   "execution_count": null,
   "id": "298ea9bb-2116-46f3-8513-2b210fdfd1dd",
   "metadata": {},
   "outputs": [],
   "source": []
  }
 ],
 "metadata": {
  "kernelspec": {
   "display_name": "Python 3 (ipykernel)",
   "language": "python",
   "name": "python3"
  },
  "language_info": {
   "codemirror_mode": {
    "name": "ipython",
    "version": 3
   },
   "file_extension": ".py",
   "mimetype": "text/x-python",
   "name": "python",
   "nbconvert_exporter": "python",
   "pygments_lexer": "ipython3",
   "version": "3.13.3"
  }
 },
 "nbformat": 4,
 "nbformat_minor": 5
}
